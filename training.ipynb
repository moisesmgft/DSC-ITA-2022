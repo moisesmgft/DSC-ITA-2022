{
 "cells": [
  {
   "cell_type": "code",
   "execution_count": null,
   "metadata": {},
   "outputs": [],
   "source": [
    "from utils import *\n",
    "import tensorflow as tf\n",
    "from keras import backend as K"
   ]
  },
  {
   "cell_type": "code",
   "execution_count": null,
   "metadata": {},
   "outputs": [],
   "source": [
    "sess = tf.compat.v1.Session(config=tf.compat.v1.ConfigProto(log_device_placement=True))\n",
    "K._get_available_gpus()"
   ]
  },
  {
   "cell_type": "code",
   "execution_count": null,
   "metadata": {},
   "outputs": [],
   "source": [
    "tickers_sets_path = 'data/tickers/sets/'\n",
    "\n",
    "sets_files = sorted([tickers_sets_path + x for x in listdir(tickers_sets_path) if 'json' in x], reverse=True)\n",
    "\n",
    "tickers_sets = []\n",
    "\n",
    "for set_file in sets_files:\n",
    "    with open(set_file, 'r') as f:\n",
    "        tickers_sets.append(json.load(f))\n",
    "\n",
    "dst_path = 'data/stocks/'"
   ]
  },
  {
   "cell_type": "code",
   "execution_count": null,
   "metadata": {},
   "outputs": [],
   "source": [
    "df = pd.read_csv('data/dataset.csv')\n",
    "df = df.set_index('Date')\n",
    "df = df[:-80]"
   ]
  },
  {
   "cell_type": "code",
   "execution_count": null,
   "metadata": {},
   "outputs": [],
   "source": [
    "data_size = 4800\n",
    "input_tickers = tickers_sets[0]\n",
    "output_tickers = tickers_sets[0]"
   ]
  },
  {
   "cell_type": "code",
   "execution_count": null,
   "metadata": {},
   "outputs": [],
   "source": [
    "scaler, x, y, dic = dataa(df, data_size, input_tickers, output_tickers, step_size=1, input_size=60, output_size=20, feature_range=(0,1))"
   ]
  },
  {
   "cell_type": "code",
   "execution_count": null,
   "metadata": {},
   "outputs": [],
   "source": [
    "x_train, y_train, x_val, y_val, x_test, y_test = train_val_test_split(x,y)"
   ]
  },
  {
   "cell_type": "code",
   "execution_count": null,
   "metadata": {},
   "outputs": [],
   "source": [
    "input_shape = (x.shape[1],x.shape[2])\n",
    "output_shape = (y.shape[1], y.shape[2])\n",
    "layers_info_list = [\n",
    "    [\n",
    "        (50, 0.2, True), \n",
    "        (70, 0.2, True),\n",
    "        (70, 0.2, True),\n",
    "        (60, 0.2, True),\n",
    "        (40, 0.2, False)\n",
    "    ],\n",
    "    [\n",
    "        (100, 0.2, True), \n",
    "        (100, 0.2, True),\n",
    "        (100, 0.2, True),\n",
    "        (150, 0.2, False)\n",
    "    ],\n",
    "    [\n",
    "        (450, 0.2, True), \n",
    "        (600, 0.2, True),\n",
    "        (600, 0.2, True),\n",
    "        (400, 0.2, False)\n",
    "    ],\n",
    "    [\n",
    "        (50, 0.2, True), \n",
    "        (50, 0.2, True),\n",
    "        (50, 0.2, True),\n",
    "        (50, 0.2, True),\n",
    "        (50, 0.2, True),\n",
    "        (50, 0.2, True),\n",
    "        (50, 0.2, True),\n",
    "        (50, 0.2, True),\n",
    "        (50, 0.2, True),\n",
    "        (50, 0.2, True),\n",
    "        (50, 0.2, True),\n",
    "        (50, 0.2, True),\n",
    "        (50, 0.2, True),\n",
    "        (50, 0.2, False)\n",
    "    ],\n",
    "    [\n",
    "        (85, 0.2, True), \n",
    "        (85, 0.2, True),\n",
    "        (85, 0.2, True),\n",
    "        (85, 0.2, True),\n",
    "        (85, 0.2, True),\n",
    "        (85, 0.2, True),\n",
    "        (85, 0.2, True),\n",
    "        (85, 0.2, True),\n",
    "        (85, 0.2, False)\n",
    "    ]\n",
    "]\n"
   ]
  },
  {
   "cell_type": "code",
   "execution_count": null,
   "metadata": {},
   "outputs": [],
   "source": [
    "layers_info_list = [\n",
    "    [\n",
    "        (600, 0.2, True), \n",
    "        (800, 0.2, True),\n",
    "        (800, 0.2, True),\n",
    "        (600, 0.2, False)\n",
    "    ],\n",
    "    [\n",
    "        (1000, 0.15, True), \n",
    "        (1000, 0.15, True),\n",
    "        (1000, 0.15, False)\n",
    "    ],\n",
    "    [\n",
    "        (800, 0.1, True), \n",
    "        (1000, 0.1, True),\n",
    "        (1000, 0.1, True),\n",
    "        (800, 0.1, False)\n",
    "    ]\n",
    "]"
   ]
  },
  {
   "cell_type": "code",
   "execution_count": null,
   "metadata": {},
   "outputs": [],
   "source": [
    "models = []\n",
    "\n",
    "for layers_info in layers_info_list:\n",
    "\n",
    "    models.append(create_model(input_shape, output_shape, layers_info, metrics=['accuracy', 'mse']))"
   ]
  },
  {
   "cell_type": "code",
   "execution_count": null,
   "metadata": {},
   "outputs": [],
   "source": [
    "history_list = []\n",
    "epochs = 100\n",
    "\n",
    "i = 5\n",
    "set_name = 'set6/'\n",
    "plot_path_dir = 'plots/' + set_name\n",
    "\n",
    "for model in models:\n",
    "    \n",
    "    try:\n",
    "        \n",
    "        history = model.fit(\n",
    "            x=x_train,\n",
    "            y=y_train,\n",
    "            epochs=epochs,\n",
    "            batch_size=32,\n",
    "            validation_data=(x_val, y_val)\n",
    "        )\n",
    "\n",
    "        history_list.append(history)\n",
    "\n",
    "        model_name = 'LSTM' + str(i)\n",
    "        model.save('models/' + set_name + model_name + '/model')\n",
    "\n",
    "        plot_path_loss = plot_path_dir + 'LOSS_' + model_name + '.png'\n",
    "        validation_plot(history.history['loss'], history.history['val_loss'], 'train vs validation loss', f=lambda: plt.savefig(plot_path_loss))\n",
    "\n",
    "        plot_path_mse = plot_path_dir + 'MSE_' + model_name + '.png'\n",
    "        validation_plot(history.history['mse'], history.history['val_mse'], 'train vs validation mse', f=lambda: plt.savefig(plot_path_mse), plot_type='mse')\n",
    "\n",
    "        plot_path_accuracy = plot_path_dir + 'ACCURACY_' + model_name + '.png'\n",
    "        validation_plot(history.history['accuracy'], history.history['val_accuracy'], 'train vs validation accuracy', f=lambda: plt.savefig(plot_path_accuracy), plot_type='accuracy')\n",
    "\n",
    "    except:\n",
    "\n",
    "        print('ERRO NO MODELO ' + str(i))\n",
    "    \n",
    "    \n",
    "    i += 1"
   ]
  }
 ],
 "metadata": {
  "kernelspec": {
   "display_name": "Python 3.8.10 64-bit",
   "language": "python",
   "name": "python3"
  },
  "language_info": {
   "codemirror_mode": {
    "name": "ipython",
    "version": 3
   },
   "file_extension": ".py",
   "mimetype": "text/x-python",
   "name": "python",
   "nbconvert_exporter": "python",
   "pygments_lexer": "ipython3",
   "version": "3.8.10"
  },
  "orig_nbformat": 4,
  "vscode": {
   "interpreter": {
    "hash": "916dbcbb3f70747c44a77c7bcd40155683ae19c65e1c03b4aa3499c5328201f1"
   }
  }
 },
 "nbformat": 4,
 "nbformat_minor": 2
}
