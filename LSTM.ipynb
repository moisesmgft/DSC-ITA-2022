{
 "cells": [
  {
   "cell_type": "code",
   "execution_count": 1,
   "metadata": {},
   "outputs": [
    {
     "name": "stderr",
     "output_type": "stream",
     "text": [
      "2022-10-21 01:09:35.256636: I tensorflow/core/platform/cpu_feature_guard.cc:193] This TensorFlow binary is optimized with oneAPI Deep Neural Network Library (oneDNN) to use the following CPU instructions in performance-critical operations:  AVX2 FMA\n",
      "To enable them in other operations, rebuild TensorFlow with the appropriate compiler flags.\n",
      "2022-10-21 01:09:35.379266: E tensorflow/stream_executor/cuda/cuda_blas.cc:2981] Unable to register cuBLAS factory: Attempting to register factory for plugin cuBLAS when one has already been registered\n",
      "2022-10-21 01:09:35.967244: W tensorflow/stream_executor/platform/default/dso_loader.cc:64] Could not load dynamic library 'libnvinfer.so.7'; dlerror: libnvinfer.so.7: cannot open shared object file: No such file or directory; LD_LIBRARY_PATH: /home/moises/workspace/devel/lib\n",
      "2022-10-21 01:09:35.967341: W tensorflow/stream_executor/platform/default/dso_loader.cc:64] Could not load dynamic library 'libnvinfer_plugin.so.7'; dlerror: libnvinfer_plugin.so.7: cannot open shared object file: No such file or directory; LD_LIBRARY_PATH: /home/moises/workspace/devel/lib\n",
      "2022-10-21 01:09:35.967358: W tensorflow/compiler/tf2tensorrt/utils/py_utils.cc:38] TF-TRT Warning: Cannot dlopen some TensorRT libraries. If you would like to use Nvidia GPU with TensorRT, please make sure the missing libraries mentioned above are installed properly.\n"
     ]
    }
   ],
   "source": [
    "from keras.models import Sequential\n",
    "from keras.layers import Dense, Dropout, LSTM, Reshape\n",
    "from sklearn.preprocessing import MinMaxScaler\n",
    "from sklearn.model_selection import cross_val_score\n",
    "from sklearn.model_selection import train_test_split\n",
    "import pandas as pd\n",
    "import matplotlib.pyplot as plt\n",
    "import numpy as np\n",
    "from keras.wrappers.scikit_learn import KerasClassifier\n",
    "\n",
    "import tensorflow as tf"
   ]
  },
  {
   "cell_type": "code",
   "execution_count": 2,
   "metadata": {},
   "outputs": [
    {
     "name": "stderr",
     "output_type": "stream",
     "text": [
      "2022-10-21 01:09:36.969640: I tensorflow/stream_executor/cuda/cuda_gpu_executor.cc:980] successful NUMA node read from SysFS had negative value (-1), but there must be at least one NUMA node, so returning NUMA node zero\n",
      "2022-10-21 01:09:36.999925: W tensorflow/stream_executor/platform/default/dso_loader.cc:64] Could not load dynamic library 'libcudnn.so.8'; dlerror: libcudnn.so.8: cannot open shared object file: No such file or directory; LD_LIBRARY_PATH: /home/moises/workspace/devel/lib\n",
      "2022-10-21 01:09:36.999944: W tensorflow/core/common_runtime/gpu/gpu_device.cc:1934] Cannot dlopen some GPU libraries. Please make sure the missing libraries mentioned above are installed properly if you would like to use GPU. Follow the guide at https://www.tensorflow.org/install/gpu for how to download and setup the required libraries for your platform.\n",
      "Skipping registering GPU devices...\n"
     ]
    },
    {
     "data": {
      "text/plain": [
       "[]"
      ]
     },
     "execution_count": 2,
     "metadata": {},
     "output_type": "execute_result"
    }
   ],
   "source": [
    "tf.config.experimental.list_physical_devices('GPU')"
   ]
  },
  {
   "cell_type": "code",
   "execution_count": 3,
   "metadata": {},
   "outputs": [],
   "source": [
    "size = 5000\n",
    "df = pd.read_csv('data/dataset_outer.csv')\n",
    "pred_info = df[len(df)-60:]"
   ]
  },
  {
   "cell_type": "code",
   "execution_count": 4,
   "metadata": {},
   "outputs": [],
   "source": [
    "df = df[len(df)-size-60:len(df)-60]\n",
    "df = df.dropna(axis=1)\n",
    "df = df.drop(['Unnamed: 0'], axis=1)\n",
    "df.index = df.Dia\n",
    "df.drop(['Dia'], axis=1, inplace=True)"
   ]
  },
  {
   "cell_type": "code",
   "execution_count": 5,
   "metadata": {},
   "outputs": [],
   "source": [
    "scaler = MinMaxScaler(feature_range=(0,1))\n",
    "dataset_scaled = scaler.fit_transform(df.values)"
   ]
  },
  {
   "cell_type": "code",
   "execution_count": 6,
   "metadata": {},
   "outputs": [],
   "source": [
    "x = []\n",
    "y = []\n",
    "\n",
    "for i in range(60, dataset_scaled.shape[0]-20):\n",
    "    x.append(dataset_scaled[i-60:i,:])\n",
    "    y.append(dataset_scaled[i:i+20,:])\n",
    "\n",
    "x, y = np.array(x), np.array(y)"
   ]
  },
  {
   "cell_type": "code",
   "execution_count": 7,
   "metadata": {},
   "outputs": [],
   "source": [
    "train_ratio = 0.70\n",
    "validation_ratio = 0.15\n",
    "test_ratio = 0.15"
   ]
  },
  {
   "cell_type": "code",
   "execution_count": 8,
   "metadata": {},
   "outputs": [],
   "source": [
    "x_train, x_test, y_train, y_test = train_test_split(x, y, test_size=1 - train_ratio)\n",
    "x_val, x_test, y_val, y_test = train_test_split(x_test, y_test, test_size=test_ratio/(test_ratio + validation_ratio))"
   ]
  },
  {
   "cell_type": "code",
   "execution_count": 11,
   "metadata": {},
   "outputs": [
    {
     "data": {
      "text/plain": [
       "((4920, 60, 391), (4920, 20, 391))"
      ]
     },
     "execution_count": 11,
     "metadata": {},
     "output_type": "execute_result"
    }
   ],
   "source": [
    "x.shape, y.shape"
   ]
  },
  {
   "cell_type": "code",
   "execution_count": 12,
   "metadata": {},
   "outputs": [
    {
     "name": "stdout",
     "output_type": "stream",
     "text": [
      "Epoch 1/100\n"
     ]
    },
    {
     "name": "stderr",
     "output_type": "stream",
     "text": [
      "2022-10-21 01:20:05.629048: W tensorflow/core/framework/cpu_allocator_impl.cc:82] Allocation of 323091120 exceeds 10% of free system memory.\n",
      "2022-10-21 01:20:05.828276: W tensorflow/core/framework/cpu_allocator_impl.cc:82] Allocation of 107697040 exceeds 10% of free system memory.\n"
     ]
    },
    {
     "name": "stdout",
     "output_type": "stream",
     "text": [
      " 52/108 [=============>................] - ETA: 3s - loss: 0.0739 - accuracy: 0.0049"
     ]
    },
    {
     "ename": "KeyboardInterrupt",
     "evalue": "",
     "output_type": "error",
     "traceback": [
      "\u001b[0;31m---------------------------------------------------------------------------\u001b[0m",
      "\u001b[0;31mKeyboardInterrupt\u001b[0m                         Traceback (most recent call last)",
      "Cell \u001b[0;32mIn [12], line 17\u001b[0m\n\u001b[1;32m     15\u001b[0m model\u001b[39m.\u001b[39madd(Reshape(output_shape))\n\u001b[1;32m     16\u001b[0m model\u001b[39m.\u001b[39mcompile(optimizer\u001b[39m=\u001b[39m\u001b[39m'\u001b[39m\u001b[39madam\u001b[39m\u001b[39m'\u001b[39m,loss\u001b[39m=\u001b[39m\u001b[39m'\u001b[39m\u001b[39mmse\u001b[39m\u001b[39m'\u001b[39m,metrics\u001b[39m=\u001b[39m[\u001b[39m'\u001b[39m\u001b[39maccuracy\u001b[39m\u001b[39m'\u001b[39m])\n\u001b[0;32m---> 17\u001b[0m history \u001b[39m=\u001b[39m model\u001b[39m.\u001b[39mfit(\n\u001b[1;32m     18\u001b[0m     x\u001b[39m=\u001b[39mx_train,\n\u001b[1;32m     19\u001b[0m     y\u001b[39m=\u001b[39my_train,\n\u001b[1;32m     20\u001b[0m     epochs\u001b[39m=\u001b[39m\u001b[39m100\u001b[39m,\n\u001b[1;32m     21\u001b[0m     batch_size\u001b[39m=\u001b[39m\u001b[39m32\u001b[39m,\n\u001b[1;32m     22\u001b[0m     validation_data\u001b[39m=\u001b[39m(x_val, y_val)\n\u001b[1;32m     23\u001b[0m )\n",
      "File \u001b[0;32m~/.local/lib/python3.8/site-packages/keras/utils/traceback_utils.py:65\u001b[0m, in \u001b[0;36mfilter_traceback.<locals>.error_handler\u001b[0;34m(*args, **kwargs)\u001b[0m\n\u001b[1;32m     63\u001b[0m filtered_tb \u001b[39m=\u001b[39m \u001b[39mNone\u001b[39;00m\n\u001b[1;32m     64\u001b[0m \u001b[39mtry\u001b[39;00m:\n\u001b[0;32m---> 65\u001b[0m     \u001b[39mreturn\u001b[39;00m fn(\u001b[39m*\u001b[39;49margs, \u001b[39m*\u001b[39;49m\u001b[39m*\u001b[39;49mkwargs)\n\u001b[1;32m     66\u001b[0m \u001b[39mexcept\u001b[39;00m \u001b[39mException\u001b[39;00m \u001b[39mas\u001b[39;00m e:\n\u001b[1;32m     67\u001b[0m     filtered_tb \u001b[39m=\u001b[39m _process_traceback_frames(e\u001b[39m.\u001b[39m__traceback__)\n",
      "File \u001b[0;32m~/.local/lib/python3.8/site-packages/keras/engine/training.py:1564\u001b[0m, in \u001b[0;36mModel.fit\u001b[0;34m(self, x, y, batch_size, epochs, verbose, callbacks, validation_split, validation_data, shuffle, class_weight, sample_weight, initial_epoch, steps_per_epoch, validation_steps, validation_batch_size, validation_freq, max_queue_size, workers, use_multiprocessing)\u001b[0m\n\u001b[1;32m   1556\u001b[0m \u001b[39mwith\u001b[39;00m tf\u001b[39m.\u001b[39mprofiler\u001b[39m.\u001b[39mexperimental\u001b[39m.\u001b[39mTrace(\n\u001b[1;32m   1557\u001b[0m     \u001b[39m\"\u001b[39m\u001b[39mtrain\u001b[39m\u001b[39m\"\u001b[39m,\n\u001b[1;32m   1558\u001b[0m     epoch_num\u001b[39m=\u001b[39mepoch,\n\u001b[0;32m   (...)\u001b[0m\n\u001b[1;32m   1561\u001b[0m     _r\u001b[39m=\u001b[39m\u001b[39m1\u001b[39m,\n\u001b[1;32m   1562\u001b[0m ):\n\u001b[1;32m   1563\u001b[0m     callbacks\u001b[39m.\u001b[39mon_train_batch_begin(step)\n\u001b[0;32m-> 1564\u001b[0m     tmp_logs \u001b[39m=\u001b[39m \u001b[39mself\u001b[39;49m\u001b[39m.\u001b[39;49mtrain_function(iterator)\n\u001b[1;32m   1565\u001b[0m     \u001b[39mif\u001b[39;00m data_handler\u001b[39m.\u001b[39mshould_sync:\n\u001b[1;32m   1566\u001b[0m         context\u001b[39m.\u001b[39masync_wait()\n",
      "File \u001b[0;32m~/.local/lib/python3.8/site-packages/tensorflow/python/util/traceback_utils.py:150\u001b[0m, in \u001b[0;36mfilter_traceback.<locals>.error_handler\u001b[0;34m(*args, **kwargs)\u001b[0m\n\u001b[1;32m    148\u001b[0m filtered_tb \u001b[39m=\u001b[39m \u001b[39mNone\u001b[39;00m\n\u001b[1;32m    149\u001b[0m \u001b[39mtry\u001b[39;00m:\n\u001b[0;32m--> 150\u001b[0m   \u001b[39mreturn\u001b[39;00m fn(\u001b[39m*\u001b[39;49margs, \u001b[39m*\u001b[39;49m\u001b[39m*\u001b[39;49mkwargs)\n\u001b[1;32m    151\u001b[0m \u001b[39mexcept\u001b[39;00m \u001b[39mException\u001b[39;00m \u001b[39mas\u001b[39;00m e:\n\u001b[1;32m    152\u001b[0m   filtered_tb \u001b[39m=\u001b[39m _process_traceback_frames(e\u001b[39m.\u001b[39m__traceback__)\n",
      "File \u001b[0;32m~/.local/lib/python3.8/site-packages/tensorflow/python/eager/def_function.py:915\u001b[0m, in \u001b[0;36mFunction.__call__\u001b[0;34m(self, *args, **kwds)\u001b[0m\n\u001b[1;32m    912\u001b[0m compiler \u001b[39m=\u001b[39m \u001b[39m\"\u001b[39m\u001b[39mxla\u001b[39m\u001b[39m\"\u001b[39m \u001b[39mif\u001b[39;00m \u001b[39mself\u001b[39m\u001b[39m.\u001b[39m_jit_compile \u001b[39melse\u001b[39;00m \u001b[39m\"\u001b[39m\u001b[39mnonXla\u001b[39m\u001b[39m\"\u001b[39m\n\u001b[1;32m    914\u001b[0m \u001b[39mwith\u001b[39;00m OptionalXlaContext(\u001b[39mself\u001b[39m\u001b[39m.\u001b[39m_jit_compile):\n\u001b[0;32m--> 915\u001b[0m   result \u001b[39m=\u001b[39m \u001b[39mself\u001b[39;49m\u001b[39m.\u001b[39;49m_call(\u001b[39m*\u001b[39;49margs, \u001b[39m*\u001b[39;49m\u001b[39m*\u001b[39;49mkwds)\n\u001b[1;32m    917\u001b[0m new_tracing_count \u001b[39m=\u001b[39m \u001b[39mself\u001b[39m\u001b[39m.\u001b[39mexperimental_get_tracing_count()\n\u001b[1;32m    918\u001b[0m without_tracing \u001b[39m=\u001b[39m (tracing_count \u001b[39m==\u001b[39m new_tracing_count)\n",
      "File \u001b[0;32m~/.local/lib/python3.8/site-packages/tensorflow/python/eager/def_function.py:947\u001b[0m, in \u001b[0;36mFunction._call\u001b[0;34m(self, *args, **kwds)\u001b[0m\n\u001b[1;32m    944\u001b[0m   \u001b[39mself\u001b[39m\u001b[39m.\u001b[39m_lock\u001b[39m.\u001b[39mrelease()\n\u001b[1;32m    945\u001b[0m   \u001b[39m# In this case we have created variables on the first call, so we run the\u001b[39;00m\n\u001b[1;32m    946\u001b[0m   \u001b[39m# defunned version which is guaranteed to never create variables.\u001b[39;00m\n\u001b[0;32m--> 947\u001b[0m   \u001b[39mreturn\u001b[39;00m \u001b[39mself\u001b[39;49m\u001b[39m.\u001b[39;49m_stateless_fn(\u001b[39m*\u001b[39;49margs, \u001b[39m*\u001b[39;49m\u001b[39m*\u001b[39;49mkwds)  \u001b[39m# pylint: disable=not-callable\u001b[39;00m\n\u001b[1;32m    948\u001b[0m \u001b[39melif\u001b[39;00m \u001b[39mself\u001b[39m\u001b[39m.\u001b[39m_stateful_fn \u001b[39mis\u001b[39;00m \u001b[39mnot\u001b[39;00m \u001b[39mNone\u001b[39;00m:\n\u001b[1;32m    949\u001b[0m   \u001b[39m# Release the lock early so that multiple threads can perform the call\u001b[39;00m\n\u001b[1;32m    950\u001b[0m   \u001b[39m# in parallel.\u001b[39;00m\n\u001b[1;32m    951\u001b[0m   \u001b[39mself\u001b[39m\u001b[39m.\u001b[39m_lock\u001b[39m.\u001b[39mrelease()\n",
      "File \u001b[0;32m~/.local/lib/python3.8/site-packages/tensorflow/python/eager/function.py:2496\u001b[0m, in \u001b[0;36mFunction.__call__\u001b[0;34m(self, *args, **kwargs)\u001b[0m\n\u001b[1;32m   2493\u001b[0m \u001b[39mwith\u001b[39;00m \u001b[39mself\u001b[39m\u001b[39m.\u001b[39m_lock:\n\u001b[1;32m   2494\u001b[0m   (graph_function,\n\u001b[1;32m   2495\u001b[0m    filtered_flat_args) \u001b[39m=\u001b[39m \u001b[39mself\u001b[39m\u001b[39m.\u001b[39m_maybe_define_function(args, kwargs)\n\u001b[0;32m-> 2496\u001b[0m \u001b[39mreturn\u001b[39;00m graph_function\u001b[39m.\u001b[39;49m_call_flat(\n\u001b[1;32m   2497\u001b[0m     filtered_flat_args, captured_inputs\u001b[39m=\u001b[39;49mgraph_function\u001b[39m.\u001b[39;49mcaptured_inputs)\n",
      "File \u001b[0;32m~/.local/lib/python3.8/site-packages/tensorflow/python/eager/function.py:1862\u001b[0m, in \u001b[0;36mConcreteFunction._call_flat\u001b[0;34m(self, args, captured_inputs, cancellation_manager)\u001b[0m\n\u001b[1;32m   1858\u001b[0m possible_gradient_type \u001b[39m=\u001b[39m gradients_util\u001b[39m.\u001b[39mPossibleTapeGradientTypes(args)\n\u001b[1;32m   1859\u001b[0m \u001b[39mif\u001b[39;00m (possible_gradient_type \u001b[39m==\u001b[39m gradients_util\u001b[39m.\u001b[39mPOSSIBLE_GRADIENT_TYPES_NONE\n\u001b[1;32m   1860\u001b[0m     \u001b[39mand\u001b[39;00m executing_eagerly):\n\u001b[1;32m   1861\u001b[0m   \u001b[39m# No tape is watching; skip to running the function.\u001b[39;00m\n\u001b[0;32m-> 1862\u001b[0m   \u001b[39mreturn\u001b[39;00m \u001b[39mself\u001b[39m\u001b[39m.\u001b[39m_build_call_outputs(\u001b[39mself\u001b[39;49m\u001b[39m.\u001b[39;49m_inference_function\u001b[39m.\u001b[39;49mcall(\n\u001b[1;32m   1863\u001b[0m       ctx, args, cancellation_manager\u001b[39m=\u001b[39;49mcancellation_manager))\n\u001b[1;32m   1864\u001b[0m forward_backward \u001b[39m=\u001b[39m \u001b[39mself\u001b[39m\u001b[39m.\u001b[39m_select_forward_and_backward_functions(\n\u001b[1;32m   1865\u001b[0m     args,\n\u001b[1;32m   1866\u001b[0m     possible_gradient_type,\n\u001b[1;32m   1867\u001b[0m     executing_eagerly)\n\u001b[1;32m   1868\u001b[0m forward_function, args_with_tangents \u001b[39m=\u001b[39m forward_backward\u001b[39m.\u001b[39mforward()\n",
      "File \u001b[0;32m~/.local/lib/python3.8/site-packages/tensorflow/python/eager/function.py:499\u001b[0m, in \u001b[0;36m_EagerDefinedFunction.call\u001b[0;34m(self, ctx, args, cancellation_manager)\u001b[0m\n\u001b[1;32m    497\u001b[0m \u001b[39mwith\u001b[39;00m _InterpolateFunctionError(\u001b[39mself\u001b[39m):\n\u001b[1;32m    498\u001b[0m   \u001b[39mif\u001b[39;00m cancellation_manager \u001b[39mis\u001b[39;00m \u001b[39mNone\u001b[39;00m:\n\u001b[0;32m--> 499\u001b[0m     outputs \u001b[39m=\u001b[39m execute\u001b[39m.\u001b[39;49mexecute(\n\u001b[1;32m    500\u001b[0m         \u001b[39mstr\u001b[39;49m(\u001b[39mself\u001b[39;49m\u001b[39m.\u001b[39;49msignature\u001b[39m.\u001b[39;49mname),\n\u001b[1;32m    501\u001b[0m         num_outputs\u001b[39m=\u001b[39;49m\u001b[39mself\u001b[39;49m\u001b[39m.\u001b[39;49m_num_outputs,\n\u001b[1;32m    502\u001b[0m         inputs\u001b[39m=\u001b[39;49margs,\n\u001b[1;32m    503\u001b[0m         attrs\u001b[39m=\u001b[39;49mattrs,\n\u001b[1;32m    504\u001b[0m         ctx\u001b[39m=\u001b[39;49mctx)\n\u001b[1;32m    505\u001b[0m   \u001b[39melse\u001b[39;00m:\n\u001b[1;32m    506\u001b[0m     outputs \u001b[39m=\u001b[39m execute\u001b[39m.\u001b[39mexecute_with_cancellation(\n\u001b[1;32m    507\u001b[0m         \u001b[39mstr\u001b[39m(\u001b[39mself\u001b[39m\u001b[39m.\u001b[39msignature\u001b[39m.\u001b[39mname),\n\u001b[1;32m    508\u001b[0m         num_outputs\u001b[39m=\u001b[39m\u001b[39mself\u001b[39m\u001b[39m.\u001b[39m_num_outputs,\n\u001b[0;32m   (...)\u001b[0m\n\u001b[1;32m    511\u001b[0m         ctx\u001b[39m=\u001b[39mctx,\n\u001b[1;32m    512\u001b[0m         cancellation_manager\u001b[39m=\u001b[39mcancellation_manager)\n",
      "File \u001b[0;32m~/.local/lib/python3.8/site-packages/tensorflow/python/eager/execute.py:54\u001b[0m, in \u001b[0;36mquick_execute\u001b[0;34m(op_name, num_outputs, inputs, attrs, ctx, name)\u001b[0m\n\u001b[1;32m     52\u001b[0m \u001b[39mtry\u001b[39;00m:\n\u001b[1;32m     53\u001b[0m   ctx\u001b[39m.\u001b[39mensure_initialized()\n\u001b[0;32m---> 54\u001b[0m   tensors \u001b[39m=\u001b[39m pywrap_tfe\u001b[39m.\u001b[39;49mTFE_Py_Execute(ctx\u001b[39m.\u001b[39;49m_handle, device_name, op_name,\n\u001b[1;32m     55\u001b[0m                                       inputs, attrs, num_outputs)\n\u001b[1;32m     56\u001b[0m \u001b[39mexcept\u001b[39;00m core\u001b[39m.\u001b[39m_NotOkStatusException \u001b[39mas\u001b[39;00m e:\n\u001b[1;32m     57\u001b[0m   \u001b[39mif\u001b[39;00m name \u001b[39mis\u001b[39;00m \u001b[39mnot\u001b[39;00m \u001b[39mNone\u001b[39;00m:\n",
      "\u001b[0;31mKeyboardInterrupt\u001b[0m: "
     ]
    }
   ],
   "source": [
    "input_shape = (x.shape[1],x.shape[2])\n",
    "output_shape = (y.shape[1], y.shape[2])\n",
    "num_el = output_shape[0] * output_shape[1]\n",
    "\n",
    "model = Sequential()\n",
    "model.add(LSTM(units=50,return_sequences=True, input_shape=input_shape))\n",
    "model.add(Dropout(0.2))\n",
    "model.add(LSTM(units=50,return_sequences=True))\n",
    "model.add(Dropout(0.2))\n",
    "model.add(LSTM(units=50,return_sequences=True))\n",
    "model.add(Dropout(0.2))\n",
    "model.add(LSTM(units=50))\n",
    "model.add(Dropout(0.2))\n",
    "model.add(Dense(units=num_el))\n",
    "model.add(Reshape(output_shape))\n",
    "model.compile(optimizer='adam',loss='mse',metrics=['accuracy'])\n",
    "history = model.fit(\n",
    "    x=x_train,\n",
    "    y=y_train,\n",
    "    epochs=100,\n",
    "    batch_size=32,\n",
    "    validation_data=(x_val, y_val)\n",
    ")"
   ]
  },
  {
   "cell_type": "code",
   "execution_count": 13,
   "metadata": {},
   "outputs": [
    {
     "name": "stdout",
     "output_type": "stream",
     "text": [
      "Model: \"sequential_1\"\n",
      "_________________________________________________________________\n",
      " Layer (type)                Output Shape              Param #   \n",
      "=================================================================\n",
      " lstm_4 (LSTM)               (None, 60, 50)            88400     \n",
      "                                                                 \n",
      " dropout_4 (Dropout)         (None, 60, 50)            0         \n",
      "                                                                 \n",
      " lstm_5 (LSTM)               (None, 60, 50)            20200     \n",
      "                                                                 \n",
      " dropout_5 (Dropout)         (None, 60, 50)            0         \n",
      "                                                                 \n",
      " lstm_6 (LSTM)               (None, 60, 50)            20200     \n",
      "                                                                 \n",
      " dropout_6 (Dropout)         (None, 60, 50)            0         \n",
      "                                                                 \n",
      " lstm_7 (LSTM)               (None, 50)                20200     \n",
      "                                                                 \n",
      " dropout_7 (Dropout)         (None, 50)                0         \n",
      "                                                                 \n",
      " dense_1 (Dense)             (None, 7820)              398820    \n",
      "                                                                 \n",
      " reshape_1 (Reshape)         (None, 20, 391)           0         \n",
      "                                                                 \n",
      "=================================================================\n",
      "Total params: 547,820\n",
      "Trainable params: 547,820\n",
      "Non-trainable params: 0\n",
      "_________________________________________________________________\n"
     ]
    }
   ],
   "source": [
    "model.summary()"
   ]
  },
  {
   "cell_type": "code",
   "execution_count": null,
   "metadata": {},
   "outputs": [
    {
     "name": "stderr",
     "output_type": "stream",
     "text": [
      "WARNING:absl:Found untraced functions such as lstm_cell_44_layer_call_fn, lstm_cell_44_layer_call_and_return_conditional_losses, lstm_cell_45_layer_call_fn, lstm_cell_45_layer_call_and_return_conditional_losses, lstm_cell_46_layer_call_fn while saving (showing 5 of 8). These functions will not be directly callable after loading.\n"
     ]
    },
    {
     "name": "stdout",
     "output_type": "stream",
     "text": [
      "INFO:tensorflow:Assets written to: models/LSTM_2/model/assets\n"
     ]
    },
    {
     "name": "stderr",
     "output_type": "stream",
     "text": [
      "INFO:tensorflow:Assets written to: models/LSTM_2/model/assets\n"
     ]
    }
   ],
   "source": [
    "model_name = 'LSTM_2'\n",
    "model.save('models/' + model_name + '/model')"
   ]
  },
  {
   "cell_type": "code",
   "execution_count": null,
   "metadata": {},
   "outputs": [
    {
     "data": {
      "text/plain": [
       "{'loss': [0.051760636270046234,\n",
       "  0.013445491902530193,\n",
       "  0.01030648685991764,\n",
       "  0.008215355686843395,\n",
       "  0.00686012813821435,\n",
       "  0.006864083465188742,\n",
       "  0.006128906738013029,\n",
       "  0.005895860027521849,\n",
       "  0.005601079203188419,\n",
       "  0.005416336003690958,\n",
       "  0.005216640420258045,\n",
       "  0.005467000417411327,\n",
       "  0.00530289439484477,\n",
       "  0.004885569214820862,\n",
       "  0.004899919964373112,\n",
       "  0.00465020164847374,\n",
       "  0.004469988401979208,\n",
       "  0.004349671769887209,\n",
       "  0.004572221077978611,\n",
       "  0.004240323789417744,\n",
       "  0.0041704666800796986,\n",
       "  0.004072855692356825,\n",
       "  0.0038380594924092293,\n",
       "  0.0037873024120926857,\n",
       "  0.0037940149195492268,\n",
       "  0.003692957339808345,\n",
       "  0.0036157548893243074,\n",
       "  0.003544487990438938,\n",
       "  0.003660036949440837,\n",
       "  0.0036011431366205215,\n",
       "  0.0035191497299820185,\n",
       "  0.003635709872469306,\n",
       "  0.0034437822178006172,\n",
       "  0.003299339674413204,\n",
       "  0.00326951639726758,\n",
       "  0.0033019399270415306,\n",
       "  0.003292844630777836,\n",
       "  0.0032841654028743505,\n",
       "  0.00317307747900486,\n",
       "  0.0032612180802971125,\n",
       "  0.0031244924757629633,\n",
       "  0.0031487480737268925,\n",
       "  0.003076292108744383,\n",
       "  0.0030203000642359257,\n",
       "  0.0030576693825423717,\n",
       "  0.0031393510289490223,\n",
       "  0.0030663989018648863,\n",
       "  0.003020388772711158,\n",
       "  0.002937149256467819,\n",
       "  0.002992750145494938,\n",
       "  0.0030085716862231493,\n",
       "  0.0029697909485548735,\n",
       "  0.0030534053221344948,\n",
       "  0.003064806805923581,\n",
       "  0.003015879774466157,\n",
       "  0.002813595114275813,\n",
       "  0.0028719687834382057,\n",
       "  0.0028795141261070967,\n",
       "  0.002836417406797409,\n",
       "  0.0028291058260947466,\n",
       "  0.002836165949702263,\n",
       "  0.0027848531026393175,\n",
       "  0.0029006025288254023,\n",
       "  0.0028570378199219704,\n",
       "  0.003013124456629157,\n",
       "  0.002933183219283819,\n",
       "  0.0028401408344507217,\n",
       "  0.0027943130116909742,\n",
       "  0.002820707391947508,\n",
       "  0.002731498098000884,\n",
       "  0.002776313805952668,\n",
       "  0.0028931412380188704,\n",
       "  0.0027716360054910183,\n",
       "  0.0027829487808048725,\n",
       "  0.0027388548478484154,\n",
       "  0.0027870964258909225,\n",
       "  0.0027405316941440105,\n",
       "  0.002744736149907112,\n",
       "  0.002729404717683792,\n",
       "  0.002808805787935853,\n",
       "  0.0027125533670186996,\n",
       "  0.002749278210103512,\n",
       "  0.0026877420023083687,\n",
       "  0.0026737095322459936,\n",
       "  0.0027033500373363495,\n",
       "  0.0026848961133509874,\n",
       "  0.002813829807564616,\n",
       "  0.002661802340298891,\n",
       "  0.0027295048348605633,\n",
       "  0.0027119785081595182,\n",
       "  0.0027007046155631542,\n",
       "  0.0026471735909581184,\n",
       "  0.0027120625600218773,\n",
       "  0.0026911247987300158,\n",
       "  0.002715343376621604,\n",
       "  0.0027360746171325445,\n",
       "  0.0027094355318695307,\n",
       "  0.0027866086456924677,\n",
       "  0.0026649257633835077,\n",
       "  0.0027693104930222034],\n",
       " 'accuracy': [0.012619808316230774,\n",
       "  0.05463258922100067,\n",
       "  0.09978216886520386,\n",
       "  0.16199535131454468,\n",
       "  0.17674992978572845,\n",
       "  0.18932616710662842,\n",
       "  0.20927970111370087,\n",
       "  0.21876271069049835,\n",
       "  0.23812082409858704,\n",
       "  0.23893406987190247,\n",
       "  0.24414753913879395,\n",
       "  0.24288411438465118,\n",
       "  0.25259947776794434,\n",
       "  0.2594539523124695,\n",
       "  0.2601655423641205,\n",
       "  0.268283486366272,\n",
       "  0.2718268930912018,\n",
       "  0.2690386176109314,\n",
       "  0.2711733877658844,\n",
       "  0.27316293120384216,\n",
       "  0.2796979248523712,\n",
       "  0.27380192279815674,\n",
       "  0.2873656749725342,\n",
       "  0.2835027575492859,\n",
       "  0.2880482077598572,\n",
       "  0.2871478497982025,\n",
       "  0.2857101261615753,\n",
       "  0.2895294725894928,\n",
       "  0.29318907856941223,\n",
       "  0.29070577025413513,\n",
       "  0.3019895553588867,\n",
       "  0.29604995250701904,\n",
       "  0.29496079683303833,\n",
       "  0.29883822798728943,\n",
       "  0.3036015033721924,\n",
       "  0.3018443286418915,\n",
       "  0.3011617660522461,\n",
       "  0.3065204620361328,\n",
       "  0.310746431350708,\n",
       "  0.3026430308818817,\n",
       "  0.31121113896369934,\n",
       "  0.30837932229042053,\n",
       "  0.3076532185077667,\n",
       "  0.3061428964138031,\n",
       "  0.30801627039909363,\n",
       "  0.30499565601348877,\n",
       "  0.30625906586647034,\n",
       "  0.31275051832199097,\n",
       "  0.3050101697444916,\n",
       "  0.2993465065956116,\n",
       "  0.3032675087451935,\n",
       "  0.3146529197692871,\n",
       "  0.31196630001068115,\n",
       "  0.302977055311203,\n",
       "  0.3033691644668579,\n",
       "  0.3046325743198395,\n",
       "  0.32217544317245483,\n",
       "  0.31543710827827454,\n",
       "  0.30814695358276367,\n",
       "  0.317121684551239,\n",
       "  0.31733953952789307,\n",
       "  0.31835609674453735,\n",
       "  0.3132587969303131,\n",
       "  0.32216089963912964,\n",
       "  0.31164681911468506,\n",
       "  0.31057217717170715,\n",
       "  0.3118791878223419,\n",
       "  0.31476908922195435,\n",
       "  0.3170781433582306,\n",
       "  0.3152483403682709,\n",
       "  0.31783327460289,\n",
       "  0.32050538063049316,\n",
       "  0.3163520097732544,\n",
       "  0.3174702227115631,\n",
       "  0.33032238483428955,\n",
       "  0.3191112279891968,\n",
       "  0.32290154695510864,\n",
       "  0.3097444176673889,\n",
       "  0.31943073868751526,\n",
       "  0.3177751898765564,\n",
       "  0.31969213485717773,\n",
       "  0.321391224861145,\n",
       "  0.31873366236686707,\n",
       "  0.32297414541244507,\n",
       "  0.32086843252182007,\n",
       "  0.3216235935688019,\n",
       "  0.31308451294898987,\n",
       "  0.32181236147880554,\n",
       "  0.3196485638618469,\n",
       "  0.3173831105232239,\n",
       "  0.32014232873916626,\n",
       "  0.3209555745124817,\n",
       "  0.3234679102897644,\n",
       "  0.3185303509235382,\n",
       "  0.32150739431381226,\n",
       "  0.32812952995300293,\n",
       "  0.32226255536079407,\n",
       "  0.32470229268074036,\n",
       "  0.32046180963516235,\n",
       "  0.3173685669898987],\n",
       " 'val_loss': [0.01660657301545143,\n",
       "  0.008516021072864532,\n",
       "  0.0061860098503530025,\n",
       "  0.004047073423862457,\n",
       "  0.004022455774247646,\n",
       "  0.003420416032895446,\n",
       "  0.003340946277603507,\n",
       "  0.00317919603548944,\n",
       "  0.0028668944723904133,\n",
       "  0.002749552484601736,\n",
       "  0.002913770731538534,\n",
       "  0.0029991641640663147,\n",
       "  0.0028129133861511946,\n",
       "  0.0023497766815125942,\n",
       "  0.0024314261972904205,\n",
       "  0.002652006456628442,\n",
       "  0.0022853652480989695,\n",
       "  0.002503642113879323,\n",
       "  0.002854888793081045,\n",
       "  0.0020934208296239376,\n",
       "  0.0021358239464461803,\n",
       "  0.0018924317555502057,\n",
       "  0.0019431390101090074,\n",
       "  0.0019596084021031857,\n",
       "  0.0019417976727709174,\n",
       "  0.0018045030301436782,\n",
       "  0.0017417309572920203,\n",
       "  0.0017248470103368163,\n",
       "  0.001957840286195278,\n",
       "  0.0017212886596098542,\n",
       "  0.002659171586856246,\n",
       "  0.0018392420606687665,\n",
       "  0.001637939945794642,\n",
       "  0.0017638948047533631,\n",
       "  0.0019004011992365122,\n",
       "  0.001623507123440504,\n",
       "  0.001704833353869617,\n",
       "  0.0017003051470965147,\n",
       "  0.0015576122095808387,\n",
       "  0.0015617180615663528,\n",
       "  0.0016292837681248784,\n",
       "  0.0014828690327703953,\n",
       "  0.0015315681230276823,\n",
       "  0.0014538327232003212,\n",
       "  0.00140565715264529,\n",
       "  0.0015996531583368778,\n",
       "  0.0013652471825480461,\n",
       "  0.0014101638225838542,\n",
       "  0.0013599819503724575,\n",
       "  0.0018235452007502317,\n",
       "  0.0012837847461923957,\n",
       "  0.0014178873971104622,\n",
       "  0.0014097766252234578,\n",
       "  0.0019027541857212782,\n",
       "  0.001420870190486312,\n",
       "  0.0012824810110032558,\n",
       "  0.0013195285573601723,\n",
       "  0.001287896535359323,\n",
       "  0.0012113685952499509,\n",
       "  0.001320511451922357,\n",
       "  0.0012540885945782065,\n",
       "  0.0011914445785805583,\n",
       "  0.001292809029109776,\n",
       "  0.001306267804466188,\n",
       "  0.0015468216734007,\n",
       "  0.0012332374462857842,\n",
       "  0.0012023193994536996,\n",
       "  0.0013730793725699186,\n",
       "  0.001187724992632866,\n",
       "  0.0012151962146162987,\n",
       "  0.0012204108061268926,\n",
       "  0.0011494101490825415,\n",
       "  0.0012127067893743515,\n",
       "  0.0011649426305666566,\n",
       "  0.0011594027746468782,\n",
       "  0.0014053405029699206,\n",
       "  0.0011593697126954794,\n",
       "  0.0012411880306899548,\n",
       "  0.001242285710759461,\n",
       "  0.0010996258351951838,\n",
       "  0.0012712919851765037,\n",
       "  0.0011871622409671545,\n",
       "  0.0011626124614849687,\n",
       "  0.001158232451416552,\n",
       "  0.001154338475316763,\n",
       "  0.001126205432228744,\n",
       "  0.001178193837404251,\n",
       "  0.0011301841586828232,\n",
       "  0.0012991387629881501,\n",
       "  0.0011420582886785269,\n",
       "  0.0011544697917997837,\n",
       "  0.0011497734813019633,\n",
       "  0.0010861686896532774,\n",
       "  0.0011668801307678223,\n",
       "  0.001091501209884882,\n",
       "  0.001059030182659626,\n",
       "  0.0011445910204201937,\n",
       "  0.0011985388118773699,\n",
       "  0.0011326492531225085,\n",
       "  0.001074274186976254],\n",
       " 'val_accuracy': [0.03970189765095711,\n",
       "  0.044037941843271255,\n",
       "  0.14810298383235931,\n",
       "  0.18407858908176422,\n",
       "  0.23848238587379456,\n",
       "  0.22337397933006287,\n",
       "  0.2638888955116272,\n",
       "  0.2770325243473053,\n",
       "  0.2789973020553589,\n",
       "  0.2934281826019287,\n",
       "  0.29281842708587646,\n",
       "  0.3221544623374939,\n",
       "  0.3243902325630188,\n",
       "  0.31070461869239807,\n",
       "  0.31185635924339294,\n",
       "  0.3107723593711853,\n",
       "  0.31659892201423645,\n",
       "  0.30589431524276733,\n",
       "  0.32432249188423157,\n",
       "  0.3178861737251282,\n",
       "  0.32134145498275757,\n",
       "  0.35081300139427185,\n",
       "  0.32798102498054504,\n",
       "  0.32052844762802124,\n",
       "  0.3214092254638672,\n",
       "  0.3472899794578552,\n",
       "  0.3413279056549072,\n",
       "  0.3384823799133301,\n",
       "  0.320460706949234,\n",
       "  0.3311653137207031,\n",
       "  0.3216802179813385,\n",
       "  0.3429539203643799,\n",
       "  0.3363143503665924,\n",
       "  0.3625338673591614,\n",
       "  0.33319783210754395,\n",
       "  0.3509485125541687,\n",
       "  0.35623306035995483,\n",
       "  0.34959349036216736,\n",
       "  0.3628726303577423,\n",
       "  0.37662601470947266,\n",
       "  0.3580623269081116,\n",
       "  0.37682926654815674,\n",
       "  0.3495257496833801,\n",
       "  0.3670731782913208,\n",
       "  0.37513551115989685,\n",
       "  0.33475610613822937,\n",
       "  0.36415988206863403,\n",
       "  0.33373984694480896,\n",
       "  0.3764227628707886,\n",
       "  0.3296070396900177,\n",
       "  0.3552168011665344,\n",
       "  0.35182926058769226,\n",
       "  0.35474255681037903,\n",
       "  0.3243902325630188,\n",
       "  0.3353658616542816,\n",
       "  0.38624662160873413,\n",
       "  0.35582655668258667,\n",
       "  0.3682249188423157,\n",
       "  0.37093496322631836,\n",
       "  0.38252031803131104,\n",
       "  0.3497290015220642,\n",
       "  0.3765582740306854,\n",
       "  0.3514227569103241,\n",
       "  0.3553523123264313,\n",
       "  0.3574525713920593,\n",
       "  0.3527100384235382,\n",
       "  0.3487127423286438,\n",
       "  0.36443090438842773,\n",
       "  0.3449864387512207,\n",
       "  0.3916666805744171,\n",
       "  0.37953928112983704,\n",
       "  0.3808943033218384,\n",
       "  0.3871951103210449,\n",
       "  0.3739837408065796,\n",
       "  0.359620600938797,\n",
       "  0.34661245346069336,\n",
       "  0.3413279056549072,\n",
       "  0.3764905035495758,\n",
       "  0.3420054316520691,\n",
       "  0.37289974093437195,\n",
       "  0.34762871265411377,\n",
       "  0.36890244483947754,\n",
       "  0.3539295494556427,\n",
       "  0.37195122241973877,\n",
       "  0.3747967481613159,\n",
       "  0.3638211488723755,\n",
       "  0.375,\n",
       "  0.36023035645484924,\n",
       "  0.38130080699920654,\n",
       "  0.36863142251968384,\n",
       "  0.33150407671928406,\n",
       "  0.3794037997722626,\n",
       "  0.34878048300743103,\n",
       "  0.3531842827796936,\n",
       "  0.3665311634540558,\n",
       "  0.3754742443561554,\n",
       "  0.38678860664367676,\n",
       "  0.35752031207084656,\n",
       "  0.3784552812576294,\n",
       "  0.3605691194534302]}"
      ]
     },
     "execution_count": 43,
     "metadata": {},
     "output_type": "execute_result"
    }
   ],
   "source": [
    "history.history"
   ]
  },
  {
   "cell_type": "code",
   "execution_count": null,
   "metadata": {},
   "outputs": [
    {
     "name": "stdout",
     "output_type": "stream",
     "text": [
      "24/24 [==============================] - 2s 26ms/step\n"
     ]
    }
   ],
   "source": [
    "predicted_stock_price = model.predict(x_test)"
   ]
  },
  {
   "cell_type": "code",
   "execution_count": null,
   "metadata": {},
   "outputs": [
    {
     "data": {
      "text/plain": [
       "((739, 20, 391), (739, 20, 391))"
      ]
     },
     "execution_count": 50,
     "metadata": {},
     "output_type": "execute_result"
    }
   ],
   "source": [
    "y_test.shape, predicted_stock_price.shape"
   ]
  },
  {
   "cell_type": "code",
   "execution_count": null,
   "metadata": {},
   "outputs": [
    {
     "data": {
      "image/png": "[encoded data removed]",
      "text/plain": [
       "<Figure size 640x480 with 1 Axes>"
      ]
     },
     "metadata": {},
     "output_type": "display_data"
    }
   ],
   "source": [
    "plt.plot(y_test[411,:,5], color = 'black', label = 'real')\n",
    "plt.plot(predicted_stock_price[411,:,5], color = 'green', label = 'Predicted')\n",
    "plt.title('real x predict')\n",
    "plt.xlabel('Time')\n",
    "plt.ylabel('Stock Price')\n",
    "plt.legend()\n",
    "plt.show()"
   ]
  }
 ],
 "metadata": {
  "kernelspec": {
   "display_name": "Python 3.8.10 64-bit",
   "language": "python",
   "name": "python3"
  },
  "language_info": {
   "codemirror_mode": {
    "name": "ipython",
    "version": 3
   },
   "file_extension": ".py",
   "mimetype": "text/x-python",
   "name": "python",
   "nbconvert_exporter": "python",
   "pygments_lexer": "ipython3",
   "version": "3.8.10"
  },
  "orig_nbformat": 4,
  "vscode": {
   "interpreter": {
    "hash": "916dbcbb3f70747c44a77c7bcd40155683ae19c65e1c03b4aa3499c5328201f1"
   }
  }
 },
 "nbformat": 4,
 "nbformat_minor": 2
}
