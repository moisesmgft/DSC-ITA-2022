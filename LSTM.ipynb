{
 "cells": [
  {
   "cell_type": "code",
   "execution_count": 49,
   "metadata": {},
   "outputs": [],
   "source": [
    "import imp\n",
    "from keras.models import Sequential\n",
    "from keras.layers import Dense, Dropout, LSTM\n",
    "from sklearn.preprocessing import MinMaxScaler\n",
    "from sklearn.model_selection import cross_val_score\n",
    "from sklearn.model_selection import train_test_split\n",
    "import pandas as pd\n",
    "import matplotlib.pyplot as plt\n",
    "import numpy as np\n",
    "from keras.wrappers.scikit_learn import KerasClassifier"
   ]
  },
  {
   "cell_type": "code",
   "execution_count": 39,
   "metadata": {},
   "outputs": [],
   "source": [
    "size = 5000\n",
    "df = pd.read_csv('data/dataset_outer.csv')\n",
    "pred_info = df[len(df)-60:]"
   ]
  },
  {
   "cell_type": "code",
   "execution_count": 40,
   "metadata": {},
   "outputs": [],
   "source": [
    "df = df[len(df)-size-60:len(df)-60]\n",
    "df = df.dropna(axis=1)\n",
    "df = df.drop(['Unnamed: 0'], axis=1)\n",
    "df.index = df.Dia\n",
    "df.drop(['Dia'], axis=1, inplace=True)"
   ]
  },
  {
   "cell_type": "code",
   "execution_count": 41,
   "metadata": {},
   "outputs": [],
   "source": [
    "scaler = MinMaxScaler(feature_range=(0,1))\n",
    "dataset_scaled = scaler.fit_transform(df.values)"
   ]
  },
  {
   "cell_type": "code",
   "execution_count": 42,
   "metadata": {},
   "outputs": [],
   "source": [
    "x = []\n",
    "y = []\n",
    "\n",
    "for i in range(60, dataset_scaled.shape[0]-20):\n",
    "    x.append(dataset_scaled[i-60:i,0])\n",
    "    y.append(dataset_scaled[i:i+20,0])\n",
    "\n",
    "x, y = np.array(x), np.array(y)\n",
    "\n",
    "x = np.reshape(x, (x.shape[0], x.shape[1], 1))"
   ]
  },
  {
   "cell_type": "code",
   "execution_count": 43,
   "metadata": {},
   "outputs": [],
   "source": [
    "train_ratio = 0.70\n",
    "validation_ratio = 0.15\n",
    "test_ratio = 0.15"
   ]
  },
  {
   "cell_type": "code",
   "execution_count": 44,
   "metadata": {},
   "outputs": [],
   "source": [
    "x_train, x_test, y_train, y_test = train_test_split(x, y, test_size=1 - train_ratio)\n",
    "x_val, x_test, y_val, y_test = train_test_split(x_test, y_test, test_size=test_ratio/(test_ratio + validation_ratio))"
   ]
  },
  {
   "cell_type": "code",
   "execution_count": 61,
   "metadata": {},
   "outputs": [
    {
     "name": "stdout",
     "output_type": "stream",
     "text": [
      "Epoch 1/10\n",
      "108/108 [==============================] - 17s 104ms/step - loss: 0.0134 - val_loss: 7.1833e-04\n",
      "Epoch 2/10\n",
      "108/108 [==============================] - 8s 78ms/step - loss: 0.0035 - val_loss: 5.6411e-04\n",
      "Epoch 3/10\n",
      "108/108 [==============================] - 8s 79ms/step - loss: 0.0028 - val_loss: 6.7993e-04\n",
      "Epoch 4/10\n",
      "108/108 [==============================] - 8s 77ms/step - loss: 0.0022 - val_loss: 4.5587e-04\n",
      "Epoch 5/10\n",
      "108/108 [==============================] - 8s 77ms/step - loss: 0.0018 - val_loss: 4.1067e-04\n",
      "Epoch 6/10\n",
      "108/108 [==============================] - 9s 80ms/step - loss: 0.0017 - val_loss: 5.6348e-04\n",
      "Epoch 7/10\n",
      "108/108 [==============================] - 8s 78ms/step - loss: 0.0016 - val_loss: 6.9820e-04\n",
      "Epoch 8/10\n",
      "108/108 [==============================] - 8s 78ms/step - loss: 0.0015 - val_loss: 4.0229e-04\n",
      "Epoch 9/10\n",
      "108/108 [==============================] - 9s 79ms/step - loss: 0.0015 - val_loss: 4.9653e-04\n",
      "Epoch 10/10\n",
      "108/108 [==============================] - 8s 78ms/step - loss: 0.0014 - val_loss: 3.6306e-04\n"
     ]
    }
   ],
   "source": [
    "model = Sequential()\n",
    "model.add(LSTM(units=50,return_sequences=True, input_shape=(x_train.shape[1],1)))\n",
    "model.add(Dropout(0.2))\n",
    "model.add(LSTM(units=50,return_sequences=True))\n",
    "model.add(Dropout(0.2))\n",
    "model.add(LSTM(units=50,return_sequences=True))\n",
    "model.add(Dropout(0.2))\n",
    "model.add(LSTM(units=50))\n",
    "model.add(Dropout(0.2))\n",
    "model.add(Dense(units=20))\n",
    "model.compile(optimizer='adam',loss='mean_squared_error')\n",
    "history = model.fit(\n",
    "    x=x_train,\n",
    "    y=y_train,\n",
    "    epochs=100,\n",
    "    batch_size=32,\n",
    "    validation_data=(x_val, y_val)\n",
    ")"
   ]
  },
  {
   "cell_type": "code",
   "execution_count": 46,
   "metadata": {},
   "outputs": [
    {
     "name": "stderr",
     "output_type": "stream",
     "text": [
      "WARNING:absl:Found untraced functions such as lstm_cell_4_layer_call_fn, lstm_cell_4_layer_call_and_return_conditional_losses, lstm_cell_5_layer_call_fn, lstm_cell_5_layer_call_and_return_conditional_losses, lstm_cell_6_layer_call_fn while saving (showing 5 of 8). These functions will not be directly callable after loading.\n"
     ]
    },
    {
     "name": "stdout",
     "output_type": "stream",
     "text": [
      "INFO:tensorflow:Assets written to: models/LSTM_1/model\\assets\n"
     ]
    },
    {
     "name": "stderr",
     "output_type": "stream",
     "text": [
      "INFO:tensorflow:Assets written to: models/LSTM_1/model\\assets\n"
     ]
    }
   ],
   "source": [
    "model_name = 'LSTM_1'\n",
    "model.save('models/' + model_name + '/model')"
   ]
  },
  {
   "cell_type": "code",
   "execution_count": 62,
   "metadata": {},
   "outputs": [
    {
     "data": {
      "text/plain": [
       "{'loss': [0.013436008244752884,\n",
       "  0.003539541969075799,\n",
       "  0.0028358653653413057,\n",
       "  0.0022389814257621765,\n",
       "  0.0018252474255859852,\n",
       "  0.0017258196603506804,\n",
       "  0.0016269611660391092,\n",
       "  0.0014912383630871773,\n",
       "  0.0014835613546893,\n",
       "  0.0013729712227359414],\n",
       " 'val_loss': [0.0007183347479440272,\n",
       "  0.0005641128518618643,\n",
       "  0.0006799285183660686,\n",
       "  0.0004558718646876514,\n",
       "  0.00041066776611842215,\n",
       "  0.0005634816479869187,\n",
       "  0.00069820461794734,\n",
       "  0.0004022942448500544,\n",
       "  0.0004965270636603236,\n",
       "  0.00036305730463936925]}"
      ]
     },
     "execution_count": 62,
     "metadata": {},
     "output_type": "execute_result"
    }
   ],
   "source": [
    "history.history"
   ]
  },
  {
   "cell_type": "code",
   "execution_count": 47,
   "metadata": {},
   "outputs": [
    {
     "name": "stdout",
     "output_type": "stream",
     "text": [
      "24/24 [==============================] - 2s 36ms/step\n"
     ]
    }
   ],
   "source": [
    "predicted_stock_price = model.predict(x_test)"
   ]
  },
  {
   "cell_type": "code",
   "execution_count": 26,
   "metadata": {},
   "outputs": [
    {
     "data": {
      "image/png": "[encoded data removed]",
      "text/plain": [
       "<Figure size 640x480 with 1 Axes>"
      ]
     },
     "metadata": {},
     "output_type": "display_data"
    }
   ],
   "source": [
    "plt.plot(y_test, color = 'black', label = 'real')\n",
    "plt.plot(predicted_stock_price[5,:], color = 'green', label = 'Predicted')\n",
    "plt.title('real x predict')\n",
    "plt.xlabel('Time')\n",
    "plt.ylabel('Stock Price')\n",
    "plt.legend()\n",
    "plt.show()"
   ]
  }
 ],
 "metadata": {
  "kernelspec": {
   "display_name": "Python 3.9.10 ('.venv': venv)",
   "language": "python",
   "name": "python3"
  },
  "language_info": {
   "codemirror_mode": {
    "name": "ipython",
    "version": 3
   },
   "file_extension": ".py",
   "mimetype": "text/x-python",
   "name": "python",
   "nbconvert_exporter": "python",
   "pygments_lexer": "ipython3",
   "version": "3.9.10"
  },
  "orig_nbformat": 4,
  "vscode": {
   "interpreter": {
    "hash": "4298122442dfedae4be5c4cec879388bc1b3a25f7e5f43a215b675e3cc16395d"
   }
  }
 },
 "nbformat": 4,
 "nbformat_minor": 2
}
