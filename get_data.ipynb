{
 "cells": [
  {
   "cell_type": "code",
   "execution_count": 72,
   "metadata": {},
   "outputs": [],
   "source": [
    "import pandas_datareader as pdr\n",
    "from datetime import datetime\n",
    "import json\n",
    "from os import listdir\n",
    "import pandas as pd\n",
    "import numpy as np \n",
    "from sklearn.preprocessing import MinMaxScaler"
   ]
  },
  {
   "cell_type": "code",
   "execution_count": 2,
   "metadata": {},
   "outputs": [],
   "source": [
    "start_date = datetime(1970, 1, 1)\n",
    "end_date = datetime.now().date()\n",
    "tickers_path = 'data/tickers/sp500.json'\n",
    "dst_path = 'data/stocks/'"
   ]
  },
  {
   "cell_type": "code",
   "execution_count": 47,
   "metadata": {},
   "outputs": [],
   "source": [
    "tickers_path = 'data/tickers/test.json'\n",
    "dst_path = 'data/stocks/test/'"
   ]
  },
  {
   "cell_type": "code",
   "execution_count": 50,
   "metadata": {},
   "outputs": [],
   "source": [
    "def download_data(tickers_path, dst_path, start_date=datetime(1970, 1, 1), end_date=datetime.now().date(), columns=['Close']):\n",
    "\n",
    "    assert 'Close' in columns\n",
    "\n",
    "    with open(tickers_path, 'r') as f:\n",
    "        tickers = json.load(f)\n",
    "\n",
    "    success = []\n",
    "    fail = []\n",
    "\n",
    "    for ticker in tickers:\n",
    "        \n",
    "        ticker = ticker.replace(\".\", \"-\")\n",
    "\n",
    "        try:\n",
    "            df = pdr.get_data_yahoo(symbols=ticker, start=start_date, end=end_date)\n",
    "\n",
    "            drop_list = list(set(df.columns) - set(columns))\n",
    "            df.drop(drop_list,axis=1,inplace=True)\n",
    "\n",
    "\n",
    "            download_path = dst_path + ticker + '.csv'\n",
    "            df.to_csv(download_path, index=True)\n",
    "\n",
    "            success.append(ticker)\n",
    "        except:\n",
    "            fail.append(ticker)\n",
    "\n",
    "    return success, fail"
   ]
  },
  {
   "cell_type": "code",
   "execution_count": 64,
   "metadata": {},
   "outputs": [],
   "source": [
    "def merge_csv(src_path, dst_path, filename='dataset', how='outer'):\n",
    "    \n",
    "    files = [src_path + x for x in listdir(src_path) if 'csv' in x]\n",
    "\n",
    "    df1 = pd.read_csv(files[0])\n",
    "    df1 = df1.rename({'Close': files[0].replace(src_path,'').replace('.csv','')}, axis=1)\n",
    "\n",
    "    for i in range(1,len(files)):\n",
    "        df2 = pd.read_csv(files[i])\n",
    "        df2 = df2.rename({'Close': files[i].replace(src_path,'').replace('.csv','')}, axis=1)\n",
    "\n",
    "        df1 = pd.merge(df1, df2, how=how, on=['Date','Date']) \n",
    "\n",
    "    df1['Date'] = pd.to_datetime(df1['Date'])\n",
    "    df1 = df1.sort_values(by='Date')\n",
    "\n",
    "    df1 = df1.set_index('Date')\n",
    "    \n",
    "    df1.to_csv(dst_path + filename + '.csv')\n",
    "\n",
    "    return df1"
   ]
  },
  {
   "cell_type": "code",
   "execution_count": 86,
   "metadata": {},
   "outputs": [],
   "source": [
    "def dataa(dataset_path, data_size, input_tickers, output_tickers, input_size=60, output_size=20, feature_range=(0,1)):\n",
    "\n",
    "    df = pd.read_csv(dataset_path)\n",
    "\n",
    "    df = df[-data_size-input_size:-input_size]\n",
    "    df = df.dropna(axis=1)\n",
    "\n",
    "    in_df = df.copy()\n",
    "    out_df = df.copy()\n",
    "\n",
    "    in_drop_list = list(set(df.columns) - set(input_tickers))\n",
    "    out_drop_list = list(set(df.columns) - set(output_tickers))\n",
    "\n",
    "    in_df.drop(in_drop_list,axis=1,inplace=True)\n",
    "    out_df.drop(out_drop_list,axis=1,inplace=True)\n",
    "\n",
    "    scaler = MinMaxScaler(feature_range=feature_range)\n",
    "    in_dataset_scaled = scaler.fit_transform(in_df.values)\n",
    "    out_dataset_scaled = scaler.fit_transform(out_df.values)\n",
    "\n",
    "    x = []\n",
    "    y = []\n",
    "\n",
    "    for i in range(input_size, in_dataset_scaled.shape[0]-output_size, input_size):\n",
    "        # adicionar passo\n",
    "        x.append(in_dataset_scaled[i-input_size:i,:])\n",
    "        y.append(out_dataset_scaled[i:i+output_size,:])\n",
    "\n",
    "    x, y = np.array(x), np.array(y)\n",
    "\n",
    "    dic = {ticker:[] for ticker in output_tickers}\n",
    "\n",
    "    return scaler, x, y, dic"
   ]
  }
 ],
 "metadata": {
  "kernelspec": {
   "display_name": "Python 3.8.10 64-bit",
   "language": "python",
   "name": "python3"
  },
  "language_info": {
   "codemirror_mode": {
    "name": "ipython",
    "version": 3
   },
   "file_extension": ".py",
   "mimetype": "text/x-python",
   "name": "python",
   "nbconvert_exporter": "python",
   "pygments_lexer": "ipython3",
   "version": "3.8.10"
  },
  "orig_nbformat": 4,
  "vscode": {
   "interpreter": {
    "hash": "916dbcbb3f70747c44a77c7bcd40155683ae19c65e1c03b4aa3499c5328201f1"
   }
  }
 },
 "nbformat": 4,
 "nbformat_minor": 2
}
