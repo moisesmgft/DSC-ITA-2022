{
 "cells": [
  {
   "cell_type": "code",
   "execution_count": 1,
   "metadata": {},
   "outputs": [
    {
     "name": "stderr",
     "output_type": "stream",
     "text": [
      "2022-10-21 01:23:18.802667: I tensorflow/core/platform/cpu_feature_guard.cc:193] This TensorFlow binary is optimized with oneAPI Deep Neural Network Library (oneDNN) to use the following CPU instructions in performance-critical operations:  AVX2 FMA\n",
      "To enable them in other operations, rebuild TensorFlow with the appropriate compiler flags.\n",
      "2022-10-21 01:23:18.921709: E tensorflow/stream_executor/cuda/cuda_blas.cc:2981] Unable to register cuBLAS factory: Attempting to register factory for plugin cuBLAS when one has already been registered\n",
      "2022-10-21 01:23:19.405169: W tensorflow/stream_executor/platform/default/dso_loader.cc:64] Could not load dynamic library 'libnvinfer.so.7'; dlerror: libnvinfer.so.7: cannot open shared object file: No such file or directory; LD_LIBRARY_PATH: /home/moises/workspace/devel/lib\n",
      "2022-10-21 01:23:19.405272: W tensorflow/stream_executor/platform/default/dso_loader.cc:64] Could not load dynamic library 'libnvinfer_plugin.so.7'; dlerror: libnvinfer_plugin.so.7: cannot open shared object file: No such file or directory; LD_LIBRARY_PATH: /home/moises/workspace/devel/lib\n",
      "2022-10-21 01:23:19.405281: W tensorflow/compiler/tf2tensorrt/utils/py_utils.cc:38] TF-TRT Warning: Cannot dlopen some TensorRT libraries. If you would like to use Nvidia GPU with TensorRT, please make sure the missing libraries mentioned above are installed properly.\n"
     ]
    }
   ],
   "source": [
    "from utils import *"
   ]
  },
  {
   "cell_type": "code",
   "execution_count": 2,
   "metadata": {},
   "outputs": [],
   "source": [
    "tickers_path = 'data/tickers/sp500.json'\n",
    "dst_path = 'data/stocks/'"
   ]
  },
  {
   "cell_type": "code",
   "execution_count": 3,
   "metadata": {},
   "outputs": [
    {
     "name": "stdout",
     "output_type": "stream",
     "text": [
      "[]\n"
     ]
    }
   ],
   "source": [
    "success, fail = download_data(tickers_path, dst_path)\n",
    "print(fail)"
   ]
  },
  {
   "cell_type": "code",
   "execution_count": 32,
   "metadata": {},
   "outputs": [],
   "source": [
    "src_path = 'data/stocks/'\n",
    "dst_path = 'data/'"
   ]
  },
  {
   "cell_type": "code",
   "execution_count": null,
   "metadata": {},
   "outputs": [],
   "source": [
    "merge_csv(src_path, dst_path)"
   ]
  },
  {
   "cell_type": "code",
   "execution_count": 2,
   "metadata": {},
   "outputs": [],
   "source": [
    "df = pd.read_csv('data/dataset.csv')\n",
    "df = df[-6000:-80]\n",
    "df = df.dropna(axis=1)\n",
    "df = df.set_index('Date')"
   ]
  },
  {
   "cell_type": "code",
   "execution_count": 3,
   "metadata": {},
   "outputs": [],
   "source": [
    "dataset_path = 'data/dataset.csv'\n",
    "data_size = 5000\n",
    "input_tickers = df.columns\n",
    "output_tickers = df.columns"
   ]
  },
  {
   "cell_type": "code",
   "execution_count": 4,
   "metadata": {},
   "outputs": [],
   "source": [
    "scaler, x, y, dic = dataa(dataset_path, data_size, input_tickers, output_tickers, step_size=1, input_size=60, output_size=20, feature_range=(0,1))"
   ]
  },
  {
   "cell_type": "code",
   "execution_count": 5,
   "metadata": {},
   "outputs": [],
   "source": [
    "x_train, y_train, x_val, y_val, x_test, y_test = train_val_test_split(x,y)"
   ]
  },
  {
   "cell_type": "code",
   "execution_count": 6,
   "metadata": {},
   "outputs": [
    {
     "data": {
      "text/plain": [
       "((4920, 60, 356), (4920, 20, 356))"
      ]
     },
     "execution_count": 6,
     "metadata": {},
     "output_type": "execute_result"
    }
   ],
   "source": [
    "x.shape, y.shape"
   ]
  },
  {
   "cell_type": "code",
   "execution_count": 7,
   "metadata": {},
   "outputs": [
    {
     "data": {
      "text/plain": [
       "((60, 356), (20, 356))"
      ]
     },
     "execution_count": 7,
     "metadata": {},
     "output_type": "execute_result"
    }
   ],
   "source": [
    "input_shape = (x.shape[1],x.shape[2])\n",
    "output_shape = (y.shape[1], y.shape[2])\n",
    "layers_info = [(50, 0.2, True), (70, 0.15, True), (70, 0.15, True), (60, 0.2, True), (40, 0.15, False)]\n",
    "\n",
    "input_shape, output_shape"
   ]
  },
  {
   "cell_type": "code",
   "execution_count": 9,
   "metadata": {},
   "outputs": [],
   "source": [
    "model = create_model(input_shape, output_shape, layers_info)"
   ]
  },
  {
   "cell_type": "code",
   "execution_count": 10,
   "metadata": {},
   "outputs": [
    {
     "name": "stderr",
     "output_type": "stream",
     "text": [
      "2022-10-21 01:25:03.961328: W tensorflow/core/framework/cpu_allocator_impl.cc:82] Allocation of 294169920 exceeds 10% of free system memory.\n",
      "2022-10-21 01:25:04.112804: W tensorflow/core/framework/cpu_allocator_impl.cc:82] Allocation of 98056640 exceeds 10% of free system memory.\n"
     ]
    },
    {
     "name": "stdout",
     "output_type": "stream",
     "text": [
      "Epoch 1/100\n",
      "108/108 [==============================] - 16s 107ms/step - loss: 0.0665 - accuracy: 0.0071 - val_loss: 0.0432 - val_accuracy: 0.0020\n",
      "Epoch 2/100\n",
      "108/108 [==============================] - 9s 88ms/step - loss: 0.0205 - accuracy: 0.0392 - val_loss: 0.0107 - val_accuracy: 0.0506\n",
      "Epoch 3/100\n",
      "108/108 [==============================] - 9s 83ms/step - loss: 0.0106 - accuracy: 0.0746 - val_loss: 0.0066 - val_accuracy: 0.1183\n",
      "Epoch 4/100\n",
      "108/108 [==============================] - 9s 85ms/step - loss: 0.0078 - accuracy: 0.1536 - val_loss: 0.0052 - val_accuracy: 0.1663\n",
      "Epoch 5/100\n",
      "108/108 [==============================] - 9s 87ms/step - loss: 0.0068 - accuracy: 0.1805 - val_loss: 0.0042 - val_accuracy: 0.1876\n",
      "Epoch 6/100\n",
      "108/108 [==============================] - 10s 94ms/step - loss: 0.0062 - accuracy: 0.2016 - val_loss: 0.0038 - val_accuracy: 0.2258\n",
      "Epoch 7/100\n",
      "108/108 [==============================] - 10s 92ms/step - loss: 0.0058 - accuracy: 0.2071 - val_loss: 0.0038 - val_accuracy: 0.2755\n",
      "Epoch 8/100\n",
      "108/108 [==============================] - 10s 91ms/step - loss: 0.0057 - accuracy: 0.2181 - val_loss: 0.0035 - val_accuracy: 0.2436\n",
      "Epoch 9/100\n",
      "108/108 [==============================] - 10s 92ms/step - loss: 0.0055 - accuracy: 0.2230 - val_loss: 0.0032 - val_accuracy: 0.2685\n",
      "Epoch 10/100\n",
      "108/108 [==============================] - 10s 93ms/step - loss: 0.0053 - accuracy: 0.2262 - val_loss: 0.0033 - val_accuracy: 0.2743\n",
      "Epoch 11/100\n",
      "108/108 [==============================] - 10s 93ms/step - loss: 0.0052 - accuracy: 0.2277 - val_loss: 0.0029 - val_accuracy: 0.2787\n",
      "Epoch 12/100\n",
      "108/108 [==============================] - 10s 92ms/step - loss: 0.0051 - accuracy: 0.2451 - val_loss: 0.0030 - val_accuracy: 0.2732\n",
      "Epoch 13/100\n",
      "108/108 [==============================] - 10s 93ms/step - loss: 0.0049 - accuracy: 0.2498 - val_loss: 0.0026 - val_accuracy: 0.3221\n",
      "Epoch 14/100\n",
      "108/108 [==============================] - 10s 92ms/step - loss: 0.0046 - accuracy: 0.2547 - val_loss: 0.0029 - val_accuracy: 0.2927\n",
      "Epoch 15/100\n",
      "108/108 [==============================] - 10s 91ms/step - loss: 0.0046 - accuracy: 0.2549 - val_loss: 0.0027 - val_accuracy: 0.2694\n",
      "Epoch 16/100\n",
      "108/108 [==============================] - 10s 92ms/step - loss: 0.0046 - accuracy: 0.2566 - val_loss: 0.0026 - val_accuracy: 0.3268\n",
      "Epoch 17/100\n",
      "108/108 [==============================] - 10s 93ms/step - loss: 0.0046 - accuracy: 0.2613 - val_loss: 0.0025 - val_accuracy: 0.2901\n",
      "Epoch 18/100\n",
      "108/108 [==============================] - 10s 93ms/step - loss: 0.0043 - accuracy: 0.2629 - val_loss: 0.0026 - val_accuracy: 0.2989\n",
      "Epoch 19/100\n",
      "108/108 [==============================] - 10s 92ms/step - loss: 0.0042 - accuracy: 0.2688 - val_loss: 0.0023 - val_accuracy: 0.3184\n",
      "Epoch 20/100\n",
      "108/108 [==============================] - 10s 93ms/step - loss: 0.0042 - accuracy: 0.2725 - val_loss: 0.0023 - val_accuracy: 0.3244\n",
      "Epoch 21/100\n",
      "108/108 [==============================] - 10s 95ms/step - loss: 0.0040 - accuracy: 0.2773 - val_loss: 0.0023 - val_accuracy: 0.3128\n",
      "Epoch 22/100\n",
      "108/108 [==============================] - 10s 94ms/step - loss: 0.0042 - accuracy: 0.2763 - val_loss: 0.0023 - val_accuracy: 0.3272\n",
      "Epoch 23/100\n",
      "108/108 [==============================] - 10s 95ms/step - loss: 0.0040 - accuracy: 0.2811 - val_loss: 0.0024 - val_accuracy: 0.3146\n",
      "Epoch 24/100\n",
      "108/108 [==============================] - 10s 94ms/step - loss: 0.0039 - accuracy: 0.2885 - val_loss: 0.0023 - val_accuracy: 0.3143\n",
      "Epoch 25/100\n",
      "108/108 [==============================] - 10s 94ms/step - loss: 0.0038 - accuracy: 0.2772 - val_loss: 0.0021 - val_accuracy: 0.3072\n",
      "Epoch 26/100\n",
      "108/108 [==============================] - 10s 94ms/step - loss: 0.0038 - accuracy: 0.2814 - val_loss: 0.0021 - val_accuracy: 0.3302\n",
      "Epoch 27/100\n",
      "108/108 [==============================] - 10s 93ms/step - loss: 0.0037 - accuracy: 0.2899 - val_loss: 0.0021 - val_accuracy: 0.3213\n",
      "Epoch 28/100\n",
      "108/108 [==============================] - 10s 93ms/step - loss: 0.0035 - accuracy: 0.2911 - val_loss: 0.0021 - val_accuracy: 0.3464\n",
      "Epoch 29/100\n",
      "108/108 [==============================] - 10s 93ms/step - loss: 0.0035 - accuracy: 0.3035 - val_loss: 0.0022 - val_accuracy: 0.3178\n",
      "Epoch 30/100\n",
      "108/108 [==============================] - 10s 94ms/step - loss: 0.0036 - accuracy: 0.3026 - val_loss: 0.0021 - val_accuracy: 0.3193\n",
      "Epoch 31/100\n",
      "108/108 [==============================] - 10s 93ms/step - loss: 0.0036 - accuracy: 0.3015 - val_loss: 0.0020 - val_accuracy: 0.3413\n",
      "Epoch 32/100\n",
      "108/108 [==============================] - 10s 93ms/step - loss: 0.0035 - accuracy: 0.2986 - val_loss: 0.0019 - val_accuracy: 0.3340\n",
      "Epoch 33/100\n",
      "108/108 [==============================] - 10s 93ms/step - loss: 0.0034 - accuracy: 0.3048 - val_loss: 0.0020 - val_accuracy: 0.3429\n",
      "Epoch 34/100\n",
      "108/108 [==============================] - 10s 93ms/step - loss: 0.0034 - accuracy: 0.3023 - val_loss: 0.0021 - val_accuracy: 0.3333\n",
      "Epoch 35/100\n",
      "108/108 [==============================] - 10s 94ms/step - loss: 0.0034 - accuracy: 0.3025 - val_loss: 0.0020 - val_accuracy: 0.3404\n",
      "Epoch 36/100\n",
      "108/108 [==============================] - 10s 93ms/step - loss: 0.0033 - accuracy: 0.3097 - val_loss: 0.0019 - val_accuracy: 0.3232\n",
      "Epoch 37/100\n",
      "108/108 [==============================] - 10s 89ms/step - loss: 0.0032 - accuracy: 0.3148 - val_loss: 0.0020 - val_accuracy: 0.3694\n",
      "Epoch 38/100\n",
      "108/108 [==============================] - 9s 85ms/step - loss: 0.0031 - accuracy: 0.3174 - val_loss: 0.0018 - val_accuracy: 0.3488\n",
      "Epoch 39/100\n",
      "108/108 [==============================] - 9s 84ms/step - loss: 0.0031 - accuracy: 0.3190 - val_loss: 0.0022 - val_accuracy: 0.3484\n",
      "Epoch 40/100\n",
      "108/108 [==============================] - 9s 85ms/step - loss: 0.0033 - accuracy: 0.3162 - val_loss: 0.0022 - val_accuracy: 0.3730\n",
      "Epoch 41/100\n",
      "108/108 [==============================] - 9s 85ms/step - loss: 0.0033 - accuracy: 0.3196 - val_loss: 0.0020 - val_accuracy: 0.3646\n",
      "Epoch 42/100\n",
      "108/108 [==============================] - 9s 85ms/step - loss: 0.0031 - accuracy: 0.3093 - val_loss: 0.0023 - val_accuracy: 0.3503\n",
      "Epoch 43/100\n",
      "108/108 [==============================] - 9s 85ms/step - loss: 0.0033 - accuracy: 0.3204 - val_loss: 0.0018 - val_accuracy: 0.3618\n",
      "Epoch 44/100\n",
      "108/108 [==============================] - 9s 85ms/step - loss: 0.0031 - accuracy: 0.3240 - val_loss: 0.0019 - val_accuracy: 0.3486\n",
      "Epoch 45/100\n",
      "108/108 [==============================] - 9s 85ms/step - loss: 0.0031 - accuracy: 0.3164 - val_loss: 0.0018 - val_accuracy: 0.3222\n",
      "Epoch 46/100\n",
      "108/108 [==============================] - 9s 84ms/step - loss: 0.0030 - accuracy: 0.3206 - val_loss: 0.0018 - val_accuracy: 0.4050\n",
      "Epoch 47/100\n",
      "108/108 [==============================] - 9s 85ms/step - loss: 0.0029 - accuracy: 0.3223 - val_loss: 0.0018 - val_accuracy: 0.3714\n",
      "Epoch 48/100\n",
      "108/108 [==============================] - 9s 85ms/step - loss: 0.0030 - accuracy: 0.3274 - val_loss: 0.0016 - val_accuracy: 0.3527\n",
      "Epoch 49/100\n",
      "108/108 [==============================] - 9s 85ms/step - loss: 0.0030 - accuracy: 0.3204 - val_loss: 0.0016 - val_accuracy: 0.3751\n",
      "Epoch 50/100\n",
      "108/108 [==============================] - 9s 84ms/step - loss: 0.0031 - accuracy: 0.3200 - val_loss: 0.0019 - val_accuracy: 0.3649\n",
      "Epoch 51/100\n",
      "108/108 [==============================] - 9s 85ms/step - loss: 0.0030 - accuracy: 0.3222 - val_loss: 0.0017 - val_accuracy: 0.3805\n",
      "Epoch 52/100\n",
      "108/108 [==============================] - 9s 85ms/step - loss: 0.0029 - accuracy: 0.3276 - val_loss: 0.0016 - val_accuracy: 0.3972\n",
      "Epoch 53/100\n",
      "108/108 [==============================] - 9s 86ms/step - loss: 0.0029 - accuracy: 0.3300 - val_loss: 0.0020 - val_accuracy: 0.3786\n",
      "Epoch 54/100\n",
      "108/108 [==============================] - 9s 85ms/step - loss: 0.0030 - accuracy: 0.3265 - val_loss: 0.0016 - val_accuracy: 0.3793\n",
      "Epoch 55/100\n",
      "108/108 [==============================] - 10s 92ms/step - loss: 0.0030 - accuracy: 0.3321 - val_loss: 0.0016 - val_accuracy: 0.3670\n",
      "Epoch 56/100\n",
      "108/108 [==============================] - 11s 99ms/step - loss: 0.0030 - accuracy: 0.3240 - val_loss: 0.0017 - val_accuracy: 0.3642\n",
      "Epoch 57/100\n",
      "108/108 [==============================] - 10s 97ms/step - loss: 0.0029 - accuracy: 0.3328 - val_loss: 0.0016 - val_accuracy: 0.3507\n",
      "Epoch 58/100\n",
      "108/108 [==============================] - 10s 96ms/step - loss: 0.0029 - accuracy: 0.3280 - val_loss: 0.0016 - val_accuracy: 0.3698\n",
      "Epoch 59/100\n",
      "108/108 [==============================] - 10s 96ms/step - loss: 0.0029 - accuracy: 0.3257 - val_loss: 0.0018 - val_accuracy: 0.3593\n",
      "Epoch 60/100\n",
      "108/108 [==============================] - 10s 96ms/step - loss: 0.0029 - accuracy: 0.3248 - val_loss: 0.0016 - val_accuracy: 0.3842\n",
      "Epoch 61/100\n",
      "108/108 [==============================] - 10s 96ms/step - loss: 0.0029 - accuracy: 0.3287 - val_loss: 0.0016 - val_accuracy: 0.3486\n",
      "Epoch 62/100\n",
      "108/108 [==============================] - 10s 96ms/step - loss: 0.0029 - accuracy: 0.3328 - val_loss: 0.0016 - val_accuracy: 0.3511\n",
      "Epoch 63/100\n",
      "108/108 [==============================] - 10s 96ms/step - loss: 0.0029 - accuracy: 0.3294 - val_loss: 0.0028 - val_accuracy: 0.3198\n",
      "Epoch 64/100\n",
      "108/108 [==============================] - 10s 96ms/step - loss: 0.0029 - accuracy: 0.3271 - val_loss: 0.0015 - val_accuracy: 0.3933\n",
      "Epoch 65/100\n",
      "108/108 [==============================] - 10s 96ms/step - loss: 0.0029 - accuracy: 0.3255 - val_loss: 0.0017 - val_accuracy: 0.3830\n",
      "Epoch 66/100\n",
      "108/108 [==============================] - 10s 96ms/step - loss: 0.0032 - accuracy: 0.3173 - val_loss: 0.0016 - val_accuracy: 0.3640\n",
      "Epoch 67/100\n",
      "108/108 [==============================] - 11s 99ms/step - loss: 0.0029 - accuracy: 0.3291 - val_loss: 0.0015 - val_accuracy: 0.3652\n",
      "Epoch 68/100\n",
      "108/108 [==============================] - 10s 97ms/step - loss: 0.0030 - accuracy: 0.3282 - val_loss: 0.0018 - val_accuracy: 0.3960\n",
      "Epoch 69/100\n",
      "108/108 [==============================] - 11s 99ms/step - loss: 0.0028 - accuracy: 0.3352 - val_loss: 0.0014 - val_accuracy: 0.3694\n",
      "Epoch 70/100\n",
      "108/108 [==============================] - 11s 98ms/step - loss: 0.0029 - accuracy: 0.3266 - val_loss: 0.0017 - val_accuracy: 0.3581\n",
      "Epoch 71/100\n",
      "108/108 [==============================] - 11s 99ms/step - loss: 0.0030 - accuracy: 0.3319 - val_loss: 0.0017 - val_accuracy: 0.3715\n",
      "Epoch 72/100\n",
      "108/108 [==============================] - 10s 95ms/step - loss: 0.0030 - accuracy: 0.3186 - val_loss: 0.0015 - val_accuracy: 0.3619\n",
      "Epoch 73/100\n",
      "108/108 [==============================] - 10s 96ms/step - loss: 0.0029 - accuracy: 0.3285 - val_loss: 0.0020 - val_accuracy: 0.3526\n",
      "Epoch 74/100\n",
      "108/108 [==============================] - 11s 98ms/step - loss: 0.0029 - accuracy: 0.3345 - val_loss: 0.0016 - val_accuracy: 0.3744\n",
      "Epoch 75/100\n",
      "108/108 [==============================] - 10s 97ms/step - loss: 0.0028 - accuracy: 0.3262 - val_loss: 0.0014 - val_accuracy: 0.3751\n",
      "Epoch 76/100\n",
      "108/108 [==============================] - 11s 98ms/step - loss: 0.0027 - accuracy: 0.3280 - val_loss: 0.0026 - val_accuracy: 0.3645\n",
      "Epoch 77/100\n",
      "108/108 [==============================] - 11s 99ms/step - loss: 0.0028 - accuracy: 0.3225 - val_loss: 0.0013 - val_accuracy: 0.3952\n",
      "Epoch 78/100\n",
      "108/108 [==============================] - 11s 98ms/step - loss: 0.0026 - accuracy: 0.3427 - val_loss: 0.0015 - val_accuracy: 0.3818\n",
      "Epoch 79/100\n",
      "108/108 [==============================] - 11s 98ms/step - loss: 0.0026 - accuracy: 0.3362 - val_loss: 0.0013 - val_accuracy: 0.3887\n",
      "Epoch 80/100\n",
      "108/108 [==============================] - 10s 96ms/step - loss: 0.0026 - accuracy: 0.3378 - val_loss: 0.0012 - val_accuracy: 0.3739\n",
      "Epoch 81/100\n",
      "108/108 [==============================] - 12s 109ms/step - loss: 0.0026 - accuracy: 0.3416 - val_loss: 0.0012 - val_accuracy: 0.3499\n",
      "Epoch 82/100\n",
      "108/108 [==============================] - 11s 99ms/step - loss: 0.0029 - accuracy: 0.3359 - val_loss: 0.0021 - val_accuracy: 0.3325\n",
      "Epoch 83/100\n",
      "108/108 [==============================] - 11s 99ms/step - loss: 0.0028 - accuracy: 0.3315 - val_loss: 0.0012 - val_accuracy: 0.3626\n",
      "Epoch 84/100\n",
      "108/108 [==============================] - 11s 99ms/step - loss: 0.0027 - accuracy: 0.3294 - val_loss: 0.0012 - val_accuracy: 0.3983\n",
      "Epoch 85/100\n",
      "108/108 [==============================] - 11s 106ms/step - loss: 0.0026 - accuracy: 0.3276 - val_loss: 0.0012 - val_accuracy: 0.3674\n",
      "Epoch 86/100\n",
      "108/108 [==============================] - 10s 97ms/step - loss: 0.0026 - accuracy: 0.3333 - val_loss: 0.0012 - val_accuracy: 0.4263\n",
      "Epoch 87/100\n",
      "108/108 [==============================] - 10s 97ms/step - loss: 0.0026 - accuracy: 0.3352 - val_loss: 0.0012 - val_accuracy: 0.3726\n",
      "Epoch 88/100\n",
      "108/108 [==============================] - 11s 99ms/step - loss: 0.0027 - accuracy: 0.3310 - val_loss: 0.0013 - val_accuracy: 0.3705\n",
      "Epoch 89/100\n",
      "108/108 [==============================] - 10s 96ms/step - loss: 0.0026 - accuracy: 0.3366 - val_loss: 0.0013 - val_accuracy: 0.3778\n",
      "Epoch 90/100\n",
      "108/108 [==============================] - 10s 96ms/step - loss: 0.0029 - accuracy: 0.3344 - val_loss: 0.0020 - val_accuracy: 0.3335\n",
      "Epoch 91/100\n",
      "108/108 [==============================] - 10s 95ms/step - loss: 0.0026 - accuracy: 0.3333 - val_loss: 0.0012 - val_accuracy: 0.3726\n",
      "Epoch 92/100\n",
      "108/108 [==============================] - 10s 95ms/step - loss: 0.0026 - accuracy: 0.3360 - val_loss: 0.0013 - val_accuracy: 0.3766\n",
      "Epoch 93/100\n",
      "108/108 [==============================] - 10s 96ms/step - loss: 0.0026 - accuracy: 0.3341 - val_loss: 0.0012 - val_accuracy: 0.3743\n",
      "Epoch 94/100\n",
      "108/108 [==============================] - 10s 96ms/step - loss: 0.0026 - accuracy: 0.3311 - val_loss: 0.0012 - val_accuracy: 0.3604\n",
      "Epoch 95/100\n",
      "108/108 [==============================] - 10s 96ms/step - loss: 0.0026 - accuracy: 0.3418 - val_loss: 0.0012 - val_accuracy: 0.3746\n",
      "Epoch 96/100\n",
      "108/108 [==============================] - 10s 96ms/step - loss: 0.0026 - accuracy: 0.3354 - val_loss: 0.0013 - val_accuracy: 0.3961\n",
      "Epoch 97/100\n",
      "108/108 [==============================] - 11s 97ms/step - loss: 0.0026 - accuracy: 0.3255 - val_loss: 0.0012 - val_accuracy: 0.3738\n",
      "Epoch 98/100\n",
      "108/108 [==============================] - 10s 96ms/step - loss: 0.0026 - accuracy: 0.3296 - val_loss: 0.0013 - val_accuracy: 0.3565\n",
      "Epoch 99/100\n",
      "108/108 [==============================] - 10s 96ms/step - loss: 0.0026 - accuracy: 0.3305 - val_loss: 0.0012 - val_accuracy: 0.3747\n",
      "Epoch 100/100\n",
      "108/108 [==============================] - 10s 96ms/step - loss: 0.0027 - accuracy: 0.3296 - val_loss: 0.0016 - val_accuracy: 0.3558\n"
     ]
    }
   ],
   "source": [
    "history = model.fit(\n",
    "    x=x_train,\n",
    "    y=y_train,\n",
    "    epochs=100,\n",
    "    batch_size=32,\n",
    "    validation_data=(x_val, y_val)\n",
    ")"
   ]
  },
  {
   "cell_type": "code",
   "execution_count": 18,
   "metadata": {},
   "outputs": [
    {
     "name": "stderr",
     "output_type": "stream",
     "text": [
      "WARNING:absl:Found untraced functions such as lstm_cell_5_layer_call_fn, lstm_cell_5_layer_call_and_return_conditional_losses, lstm_cell_6_layer_call_fn, lstm_cell_6_layer_call_and_return_conditional_losses, lstm_cell_7_layer_call_fn while saving (showing 5 of 10). These functions will not be directly callable after loading.\n"
     ]
    },
    {
     "name": "stdout",
     "output_type": "stream",
     "text": [
      "INFO:tensorflow:Assets written to: models/LSTM_test/model/assets\n"
     ]
    },
    {
     "name": "stderr",
     "output_type": "stream",
     "text": [
      "INFO:tensorflow:Assets written to: models/LSTM_test/model/assets\n"
     ]
    }
   ],
   "source": [
    "model_name = 'LSTM_test'\n",
    "model.save('models/' + model_name + '/model')"
   ]
  }
 ],
 "metadata": {
  "kernelspec": {
   "display_name": "Python 3.8.10 64-bit",
   "language": "python",
   "name": "python3"
  },
  "language_info": {
   "codemirror_mode": {
    "name": "ipython",
    "version": 3
   },
   "file_extension": ".py",
   "mimetype": "text/x-python",
   "name": "python",
   "nbconvert_exporter": "python",
   "pygments_lexer": "ipython3",
   "version": "3.8.10"
  },
  "orig_nbformat": 4,
  "vscode": {
   "interpreter": {
    "hash": "916dbcbb3f70747c44a77c7bcd40155683ae19c65e1c03b4aa3499c5328201f1"
   }
  }
 },
 "nbformat": 4,
 "nbformat_minor": 2
}
