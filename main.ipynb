{
 "cells": [
  {
   "cell_type": "code",
   "execution_count": 5,
   "metadata": {},
   "outputs": [],
   "source": [
    "from utils import *"
   ]
  },
  {
   "cell_type": "code",
   "execution_count": null,
   "metadata": {},
   "outputs": [],
   "source": [
    "tickers_path = 'data/tickers/sp500.json'\n",
    "dst_path = 'data/stocks/'"
   ]
  },
  {
   "cell_type": "code",
   "execution_count": null,
   "metadata": {},
   "outputs": [],
   "source": [
    "success, fail = download_data(tickers_path, dst_path)\n",
    "print(fail)"
   ]
  },
  {
   "cell_type": "code",
   "execution_count": null,
   "metadata": {},
   "outputs": [],
   "source": [
    "src_path = 'data/stocks/'\n",
    "dst_path = 'data/'"
   ]
  },
  {
   "cell_type": "code",
   "execution_count": null,
   "metadata": {},
   "outputs": [],
   "source": [
    "merge_csv(src_path, dst_path)"
   ]
  },
  {
   "cell_type": "code",
   "execution_count": 6,
   "metadata": {},
   "outputs": [],
   "source": [
    "df = pd.read_csv('data/dataset.csv')\n",
    "df = df[-6000:-80]\n",
    "df = df.dropna(axis=1)\n",
    "df = df.set_index('Date')"
   ]
  },
  {
   "cell_type": "code",
   "execution_count": 9,
   "metadata": {},
   "outputs": [],
   "source": [
    "\n",
    "data_size = 5000\n",
    "input_tickers = df.columns\n",
    "output_tickers = df.columns"
   ]
  },
  {
   "cell_type": "code",
   "execution_count": 26,
   "metadata": {},
   "outputs": [
    {
     "name": "stdout",
     "output_type": "stream",
     "text": [
      "set()\n",
      "356 356\n",
      "356 356\n"
     ]
    }
   ],
   "source": [
    "scaler, x, y, dic = dataa(df, data_size, input_tickers, output_tickers, step_size=1, input_size=60, output_size=20, feature_range=(0,1))\n",
    "x, y = x[:,:,2:5], y[:,:,2:5]"
   ]
  },
  {
   "cell_type": "code",
   "execution_count": 27,
   "metadata": {},
   "outputs": [],
   "source": [
    "x_train, y_train, x_val, y_val, x_test, y_test = train_val_test_split(x,y)"
   ]
  },
  {
   "cell_type": "code",
   "execution_count": 28,
   "metadata": {},
   "outputs": [
    {
     "data": {
      "text/plain": [
       "((4920, 60, 3), (4920, 20, 3))"
      ]
     },
     "execution_count": 28,
     "metadata": {},
     "output_type": "execute_result"
    }
   ],
   "source": [
    "x.shape, y.shape"
   ]
  },
  {
   "cell_type": "code",
   "execution_count": 29,
   "metadata": {},
   "outputs": [
    {
     "data": {
      "text/plain": [
       "((60, 3), (20, 3))"
      ]
     },
     "execution_count": 29,
     "metadata": {},
     "output_type": "execute_result"
    }
   ],
   "source": [
    "input_shape = (x.shape[1],x.shape[2])\n",
    "output_shape = (y.shape[1], y.shape[2])\n",
    "layers_info = [(50, 0.2, True), (40, 0.15, False)]\n",
    "\n",
    "input_shape, output_shape"
   ]
  },
  {
   "cell_type": "code",
   "execution_count": 30,
   "metadata": {},
   "outputs": [],
   "source": [
    "\n",
    "def create_model2(input_shape, output_shape, layers_info, metrics):\n",
    "\n",
    "    num_els = output_shape[0] * output_shape[1]\n",
    "\n",
    "    model = Sequential()\n",
    "\n",
    "    (units, dropout_rate, ret) = layers_info[0]\n",
    "\n",
    "    model.add(LSTM(units=units,return_sequences=ret, input_shape=input_shape))\n",
    "    model.add(Dropout(dropout_rate))\n",
    "\n",
    "    \n",
    "    for (units, dropout_rate, ret) in layers_info[1:]:\n",
    "\n",
    "        model.add(LSTM(units=units, return_sequences=ret))\n",
    "        model.add(Dropout(dropout_rate))\n",
    "\n",
    "    model.add(Dense(units=num_els))\n",
    "    model.add(Reshape(output_shape))\n",
    "    \n",
    "    model.compile(optimizer='adam',loss='mse',metrics=metrics)\n",
    "\n",
    "    return model"
   ]
  },
  {
   "cell_type": "code",
   "execution_count": 66,
   "metadata": {},
   "outputs": [],
   "source": [
    "from keras import backend\n",
    " \n",
    "def var(y_true, y_pred, axis):\n",
    "\treturn backend.mean(backend.sum((y_pred - y_true) - backend.mean(y_pred - y_true, axis=axis, keepdims=True), axis=axis, keepdims=True), axis=axis)\n",
    "\n",
    "def mse(y_true, y_pred, axis=-1):\n",
    "    return backend.mean(backend.square(y_pred - y_true), axis=axis)\n",
    "\n",
    "def E(y_true, y_pred):\n",
    "\treturn backend.sqrt(var(y_true, y_pred,axis=0) + mse(y_true, y_pred, axis=0))\n",
    "    "
   ]
  },
  {
   "cell_type": "code",
   "execution_count": 67,
   "metadata": {},
   "outputs": [],
   "source": [
    "model = create_model2(input_shape, output_shape, layers_info, metrics=[E, 'acc', mse])"
   ]
  },
  {
   "cell_type": "code",
   "execution_count": 68,
   "metadata": {},
   "outputs": [
    {
     "name": "stdout",
     "output_type": "stream",
     "text": [
      "Epoch 1/3\n",
      "108/108 [==============================] - 20s 122ms/step - loss: 0.0433 - E: 0.1762 - acc: 0.7036 - mse: 0.0433 - val_loss: 0.0035 - val_E: 0.0547 - val_acc: 0.9380 - val_mse: 0.0035\n",
      "Epoch 2/3\n",
      "108/108 [==============================] - 11s 105ms/step - loss: 0.0086 - E: 0.0898 - acc: 0.8938 - mse: 0.0086 - val_loss: 0.0019 - val_E: 0.0412 - val_acc: 0.9537 - val_mse: 0.0019\n",
      "Epoch 3/3\n",
      "108/108 [==============================] - 12s 109ms/step - loss: 0.0061 - E: 0.0760 - acc: 0.9152 - mse: 0.0061 - val_loss: 0.0017 - val_E: 0.0384 - val_acc: 0.9558 - val_mse: 0.0017\n"
     ]
    }
   ],
   "source": [
    "history = model.fit(\n",
    "    x=x_train,\n",
    "    y=y_train,\n",
    "    epochs=3,\n",
    "    batch_size=32,\n",
    "    validation_data=(x_val, y_val)\n",
    ")"
   ]
  },
  {
   "cell_type": "code",
   "execution_count": null,
   "metadata": {},
   "outputs": [],
   "source": [
    "model_name = 'LSTM_test'\n",
    "model.save('models/' + model_name + '/model')"
   ]
  },
  {
   "cell_type": "code",
   "execution_count": null,
   "metadata": {},
   "outputs": [],
   "source": [
    "from matplotlib import pyplot as plt\n",
    "\n",
    "def validation_plot(train_arr, val_arr, f=plt.show, type='loss'):\n",
    "\n",
    "    # f= lambda: plt.savefig(path)\n",
    "\n",
    "    plt.plot(train_arr)\n",
    "    plt.plot(val_arr)\n",
    "    plt.title('model train vs validation loss')\n",
    "    plt.ylabel(type)\n",
    "    plt.xlabel('epoch')\n",
    "    plt.legend(['train', 'validation'], loc='upper right')\n",
    "    f()"
   ]
  },
  {
   "cell_type": "code",
   "execution_count": null,
   "metadata": {},
   "outputs": [],
   "source": [
    "validation_plot(history.history['loss'],history.history['val_loss'])"
   ]
  },
  {
   "cell_type": "code",
   "execution_count": 3,
   "metadata": {},
   "outputs": [],
   "source": [
    "df = pd.read_csv('data/dataset.csv')\n",
    "df.set_index('Date')\n",
    "\n",
    "tickers_set = []\n",
    "tickers_set.append(get_tickers_in_range(df, (188,360)))\n",
    "tickers_set.append(get_tickers_in_range(df, (360,651)))\n",
    "tickers_set.append(get_tickers_in_range(df, (651,1000)))\n",
    "tickers_set.append(get_tickers_in_range(df, (1000,2000)))\n",
    "tickers_set.append(get_tickers_in_range(df, (2000,5000)))\n",
    "tickers_set.append(get_tickers_in_range(df, (5000,'MAX')))\n",
    "\n",
    "\n",
    "for i in range(6):\n",
    "        \n",
    "    with open('data/tickers/sets/set' + str(i+1) + '.json', 'w') as f:\n",
    "        json.dump(tickers_set[i], f)"
   ]
  },
  {
   "cell_type": "code",
   "execution_count": 10,
   "metadata": {},
   "outputs": [
    {
     "name": "stdout",
     "output_type": "stream",
     "text": [
      "set()\n"
     ]
    }
   ],
   "source": [
    "\n"
   ]
  }
 ],
 "metadata": {
  "kernelspec": {
   "display_name": "Python 3.8.10 64-bit",
   "language": "python",
   "name": "python3"
  },
  "language_info": {
   "codemirror_mode": {
    "name": "ipython",
    "version": 3
   },
   "file_extension": ".py",
   "mimetype": "text/x-python",
   "name": "python",
   "nbconvert_exporter": "python",
   "pygments_lexer": "ipython3",
   "version": "3.8.10"
  },
  "orig_nbformat": 4,
  "vscode": {
   "interpreter": {
    "hash": "916dbcbb3f70747c44a77c7bcd40155683ae19c65e1c03b4aa3499c5328201f1"
   }
  }
 },
 "nbformat": 4,
 "nbformat_minor": 2
}
