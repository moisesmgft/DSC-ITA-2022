{
 "cells": [
  {
   "cell_type": "code",
   "execution_count": 1,
   "metadata": {},
   "outputs": [
    {
     "name": "stderr",
     "output_type": "stream",
     "text": [
      "2022-10-23 13:45:38.829657: I tensorflow/core/platform/cpu_feature_guard.cc:193] This TensorFlow binary is optimized with oneAPI Deep Neural Network Library (oneDNN) to use the following CPU instructions in performance-critical operations:  AVX2 FMA\n",
      "To enable them in other operations, rebuild TensorFlow with the appropriate compiler flags.\n",
      "2022-10-23 13:45:38.945844: E tensorflow/stream_executor/cuda/cuda_blas.cc:2981] Unable to register cuBLAS factory: Attempting to register factory for plugin cuBLAS when one has already been registered\n",
      "2022-10-23 13:45:39.432051: W tensorflow/stream_executor/platform/default/dso_loader.cc:64] Could not load dynamic library 'libnvinfer.so.7'; dlerror: libnvinfer.so.7: cannot open shared object file: No such file or directory; LD_LIBRARY_PATH: /home/moises/workspace/devel/lib\n",
      "2022-10-23 13:45:39.432168: W tensorflow/stream_executor/platform/default/dso_loader.cc:64] Could not load dynamic library 'libnvinfer_plugin.so.7'; dlerror: libnvinfer_plugin.so.7: cannot open shared object file: No such file or directory; LD_LIBRARY_PATH: /home/moises/workspace/devel/lib\n",
      "2022-10-23 13:45:39.432176: W tensorflow/compiler/tf2tensorrt/utils/py_utils.cc:38] TF-TRT Warning: Cannot dlopen some TensorRT libraries. If you would like to use Nvidia GPU with TensorRT, please make sure the missing libraries mentioned above are installed properly.\n"
     ]
    }
   ],
   "source": [
    "from utils import *\n",
    "import tensorflow as tf\n",
    "from keras import backend as K"
   ]
  },
  {
   "cell_type": "markdown",
   "metadata": {},
   "source": [
    "Check if keras is using GPU"
   ]
  },
  {
   "cell_type": "code",
   "execution_count": 2,
   "metadata": {},
   "outputs": [
    {
     "name": "stderr",
     "output_type": "stream",
     "text": [
      "2022-10-23 13:45:39.961613: I tensorflow/core/platform/cpu_feature_guard.cc:193] This TensorFlow binary is optimized with oneAPI Deep Neural Network Library (oneDNN) to use the following CPU instructions in performance-critical operations:  AVX2 FMA\n",
      "To enable them in other operations, rebuild TensorFlow with the appropriate compiler flags.\n",
      "2022-10-23 13:45:40.015786: I tensorflow/stream_executor/cuda/cuda_gpu_executor.cc:980] successful NUMA node read from SysFS had negative value (-1), but there must be at least one NUMA node, so returning NUMA node zero\n",
      "2022-10-23 13:45:40.039578: I tensorflow/stream_executor/cuda/cuda_gpu_executor.cc:980] successful NUMA node read from SysFS had negative value (-1), but there must be at least one NUMA node, so returning NUMA node zero\n",
      "2022-10-23 13:45:40.039737: I tensorflow/stream_executor/cuda/cuda_gpu_executor.cc:980] successful NUMA node read from SysFS had negative value (-1), but there must be at least one NUMA node, so returning NUMA node zero\n"
     ]
    },
    {
     "name": "stdout",
     "output_type": "stream",
     "text": [
      "Device mapping:\n",
      "/job:localhost/replica:0/task:0/device:GPU:0 -> device: 0, name: NVIDIA GeForce RTX 2060, pci bus id: 0000:01:00.0, compute capability: 7.5\n",
      "\n"
     ]
    },
    {
     "name": "stderr",
     "output_type": "stream",
     "text": [
      "2022-10-23 13:45:40.409461: I tensorflow/stream_executor/cuda/cuda_gpu_executor.cc:980] successful NUMA node read from SysFS had negative value (-1), but there must be at least one NUMA node, so returning NUMA node zero\n",
      "2022-10-23 13:45:40.409622: I tensorflow/stream_executor/cuda/cuda_gpu_executor.cc:980] successful NUMA node read from SysFS had negative value (-1), but there must be at least one NUMA node, so returning NUMA node zero\n",
      "2022-10-23 13:45:40.409731: I tensorflow/stream_executor/cuda/cuda_gpu_executor.cc:980] successful NUMA node read from SysFS had negative value (-1), but there must be at least one NUMA node, so returning NUMA node zero\n",
      "2022-10-23 13:45:40.409814: I tensorflow/core/common_runtime/gpu/gpu_device.cc:1616] Created device /job:localhost/replica:0/task:0/device:GPU:0 with 4019 MB memory:  -> device: 0, name: NVIDIA GeForce RTX 2060, pci bus id: 0000:01:00.0, compute capability: 7.5\n",
      "2022-10-23 13:45:40.411224: I tensorflow/stream_executor/cuda/cuda_gpu_executor.cc:980] successful NUMA node read from SysFS had negative value (-1), but there must be at least one NUMA node, so returning NUMA node zero\n",
      "2022-10-23 13:45:40.411401: I tensorflow/stream_executor/cuda/cuda_gpu_executor.cc:980] successful NUMA node read from SysFS had negative value (-1), but there must be at least one NUMA node, so returning NUMA node zero\n",
      "2022-10-23 13:45:40.411502: I tensorflow/stream_executor/cuda/cuda_gpu_executor.cc:980] successful NUMA node read from SysFS had negative value (-1), but there must be at least one NUMA node, so returning NUMA node zero\n",
      "2022-10-23 13:45:40.411921: I tensorflow/stream_executor/cuda/cuda_gpu_executor.cc:980] successful NUMA node read from SysFS had negative value (-1), but there must be at least one NUMA node, so returning NUMA node zero\n",
      "2022-10-23 13:45:40.412031: I tensorflow/stream_executor/cuda/cuda_gpu_executor.cc:980] successful NUMA node read from SysFS had negative value (-1), but there must be at least one NUMA node, so returning NUMA node zero\n",
      "2022-10-23 13:45:40.412125: I tensorflow/stream_executor/cuda/cuda_gpu_executor.cc:980] successful NUMA node read from SysFS had negative value (-1), but there must be at least one NUMA node, so returning NUMA node zero\n",
      "2022-10-23 13:45:40.412291: I tensorflow/stream_executor/cuda/cuda_gpu_executor.cc:980] successful NUMA node read from SysFS had negative value (-1), but there must be at least one NUMA node, so returning NUMA node zero\n",
      "2022-10-23 13:45:40.412391: I tensorflow/stream_executor/cuda/cuda_gpu_executor.cc:980] successful NUMA node read from SysFS had negative value (-1), but there must be at least one NUMA node, so returning NUMA node zero\n",
      "2022-10-23 13:45:40.412476: I tensorflow/core/common_runtime/gpu/gpu_device.cc:1616] Created device /job:localhost/replica:0/task:0/device:GPU:0 with 4019 MB memory:  -> device: 0, name: NVIDIA GeForce RTX 2060, pci bus id: 0000:01:00.0, compute capability: 7.5\n"
     ]
    },
    {
     "data": {
      "text/plain": [
       "['/device:GPU:0']"
      ]
     },
     "execution_count": 2,
     "metadata": {},
     "output_type": "execute_result"
    }
   ],
   "source": [
    "sess = tf.compat.v1.Session(config=tf.compat.v1.ConfigProto(log_device_placement=True))\n",
    "K._get_available_gpus()"
   ]
  },
  {
   "cell_type": "markdown",
   "metadata": {},
   "source": [
    "Get tickers"
   ]
  },
  {
   "cell_type": "code",
   "execution_count": 3,
   "metadata": {},
   "outputs": [],
   "source": [
    "tickers_sets_path = 'data/tickers/sets/'\n",
    "\n",
    "sets_files = sorted([tickers_sets_path + x for x in listdir(tickers_sets_path) if 'json' in x], reverse=False)\n",
    "\n",
    "tickers_sets = []\n",
    "\n",
    "for set_file in sets_files:\n",
    "    with open(set_file, 'r') as f:\n",
    "        tickers_sets.append(json.load(f))"
   ]
  },
  {
   "cell_type": "markdown",
   "metadata": {},
   "source": [
    "Read dataset"
   ]
  },
  {
   "cell_type": "code",
   "execution_count": 4,
   "metadata": {},
   "outputs": [],
   "source": [
    "df = pd.read_csv('data/dataset.csv')\n",
    "df = df.set_index('Date')\n",
    "# df = df[:-60]"
   ]
  },
  {
   "cell_type": "markdown",
   "metadata": {},
   "source": [
    "Define training sets and data size"
   ]
  },
  {
   "cell_type": "code",
   "execution_count": 5,
   "metadata": {},
   "outputs": [],
   "source": [
    "in_sets = [0,1,2,3]\n",
    "out_sets = [3]\n",
    "data_size = 630\n",
    "\n",
    "input_tickers = set()\n",
    "output_tickers = set()\n",
    "for in_set in in_sets:\n",
    "    input_tickers = input_tickers.union(set(tickers_sets[in_set]))\n",
    "\n",
    "for out_set in out_sets:\n",
    "    output_tickers = output_tickers.union(set(tickers_sets[out_set]))\n",
    "\n",
    "input_tickers = list(input_tickers)\n",
    "output_tickers = list(output_tickers)\n"
   ]
  },
  {
   "cell_type": "markdown",
   "metadata": {},
   "source": [
    "Process data"
   ]
  },
  {
   "cell_type": "code",
   "execution_count": 6,
   "metadata": {},
   "outputs": [
    {
     "name": "stdout",
     "output_type": "stream",
     "text": [
      "500 7\n"
     ]
    }
   ],
   "source": [
    "scaler, x, y, dic = dataa(df, data_size, input_tickers, output_tickers, \\\n",
    "                        step_size=1, input_size=20, output_size=20, \\\n",
    "                        feature_range=(0,1), return_log=False)"
   ]
  },
  {
   "cell_type": "markdown",
   "metadata": {},
   "source": [
    "Split dataset i training, validation and test"
   ]
  },
  {
   "cell_type": "code",
   "execution_count": 7,
   "metadata": {},
   "outputs": [],
   "source": [
    "x_train, y_train, x_val, y_val, x_test, y_test = train_val_test_split(x,y)"
   ]
  },
  {
   "cell_type": "markdown",
   "metadata": {},
   "source": [
    "Define hyperparameters"
   ]
  },
  {
   "cell_type": "code",
   "execution_count": 8,
   "metadata": {},
   "outputs": [],
   "source": [
    "input_shape = (x.shape[1],x.shape[2])\n",
    "output_shape = (y.shape[1], y.shape[2])\n",
    "layers_info_list = [\n",
    "    [\n",
    "        (125, 0.15, True), \n",
    "        (125, 0.15, True),\n",
    "        (125, 0.15, True),\n",
    "        (125, 0.15, True),\n",
    "        (125, 0.15, True),\n",
    "        (125, 0.15, False)\n",
    "    ],\n",
    "    [\n",
    "        (250, 0.20, True), \n",
    "        (250, 0.20, True),\n",
    "        (250, 0.20, True),\n",
    "        (250, 0.20, False)\n",
    "    ],\n",
    "    [\n",
    "        (600, 0.15, True),\n",
    "        (600, 0.15, False)\n",
    "    ],\n",
    "    [\n",
    "        (400, 0.20, True),\n",
    "        (500, 0.20, True),\n",
    "        (800, 0.20, False)\n",
    "    ],\n",
    "    [\n",
    "        (450, 0.15, True), \n",
    "        (450, 0.15, True),\n",
    "        (450, 0.15, False)\n",
    "    ]\n",
    "]"
   ]
  },
  {
   "cell_type": "markdown",
   "metadata": {},
   "source": [
    "Create Models"
   ]
  },
  {
   "cell_type": "code",
   "execution_count": 9,
   "metadata": {},
   "outputs": [],
   "source": [
    "models = []\n",
    "hyperparameters = range(len(layers_info_list))\n",
    "\n",
    "for i in hyperparameters:\n",
    "    layers_info = layers_info_list[i]\n",
    "    models.append(create_model(input_shape, output_shape, layers_info, metrics=['accuracy', 'mse']))"
   ]
  },
  {
   "cell_type": "markdown",
   "metadata": {},
   "source": [
    "Train networks"
   ]
  },
  {
   "cell_type": "code",
   "execution_count": 10,
   "metadata": {},
   "outputs": [
    {
     "name": "stdout",
     "output_type": "stream",
     "text": [
      "Epoch 1/150\n"
     ]
    },
    {
     "name": "stderr",
     "output_type": "stream",
     "text": [
      "2022-10-23 13:45:28.425585: I tensorflow/stream_executor/cuda/cuda_dnn.cc:384] Loaded cuDNN version 8600\n"
     ]
    },
    {
     "name": "stdout",
     "output_type": "stream",
     "text": [
      "13/13 [==============================] - 8s 118ms/step - loss: 0.4138 - accuracy: 0.1581 - mse: 0.1994 - val_loss: 0.2459 - val_accuracy: 0.2607 - val_mse: 0.0636\n",
      "Epoch 2/150\n",
      "13/13 [==============================] - 0s 13ms/step - loss: 0.2632 - accuracy: 0.2223 - mse: 0.0711 - val_loss: 0.2271 - val_accuracy: 0.3028 - val_mse: 0.0525\n",
      "Epoch 3/150\n",
      "13/13 [==============================] - 0s 11ms/step - loss: 0.2295 - accuracy: 0.2271 - mse: 0.0539 - val_loss: 0.1597 - val_accuracy: 0.2494 - val_mse: 0.0265\n",
      "Epoch 4/150\n",
      "13/13 [==============================] - 0s 10ms/step - loss: 0.1817 - accuracy: 0.2397 - mse: 0.0338 - val_loss: 0.1456 - val_accuracy: 0.3376 - val_mse: 0.0220\n",
      "Epoch 5/150\n",
      " 1/13 [=>............................] - ETA: 0s - loss: 0.1692 - accuracy: 0.2531 - mse: 0.0290"
     ]
    }
   ],
   "source": [
    "history_list = []\n",
    "epochs_list = [150,150,150,150,150]\n",
    "\n",
    "set_name = 'set3/'\n",
    "plot_path_dir = 'metrics/' + set_name\n",
    "extra_info = ''\n",
    "\n",
    "j=0\n",
    "for i in hyperparameters:\n",
    "\n",
    "    model = models[j]\n",
    "    epochs = epochs_list[j]\n",
    "    j += 1\n",
    "    try:\n",
    "        \n",
    "        history = model.fit(\n",
    "            x=x_train,\n",
    "            y=y_train,\n",
    "            epochs=epochs,\n",
    "            batch_size=32,\n",
    "            validation_data=(x_val, y_val)\n",
    "        )\n",
    "\n",
    "        history_list.append(history)\n",
    "\n",
    "        model_name = 'LSTM' + str(i) + extra_info\n",
    "        # model.save('models/' + set_name + model_name + '/model')\n",
    "\n",
    "        plot_path_loss = plot_path_dir + 'LOSS_' + model_name + '.png'\n",
    "        validation_plot(history.history['loss'], history.history['val_loss'], 'train vs validation loss', f=lambda: plt.savefig(plot_path_loss))\n",
    "\n",
    "        plot_path_mse = plot_path_dir + 'MSE_' + model_name + '.png'\n",
    "        validation_plot(history.history['mse'], history.history['val_mse'], 'train vs validation mse', f=lambda: plt.savefig(plot_path_mse), plot_type='mse')\n",
    "\n",
    "        plot_path_accuracy = plot_path_dir + 'ACCURACY_' + model_name + '.png'\n",
    "        validation_plot(history.history['accuracy'], history.history['val_accuracy'], 'train vs validation accuracy', f=lambda: plt.savefig(plot_path_accuracy), plot_type='accuracy')\n",
    "\n",
    "    except:\n",
    "\n",
    "        print('ERRO NO MODELO ' + str(i))\n",
    "    "
   ]
  }
 ],
 "metadata": {
  "kernelspec": {
   "display_name": "Python 3.8.10 64-bit",
   "language": "python",
   "name": "python3"
  },
  "language_info": {
   "codemirror_mode": {
    "name": "ipython",
    "version": 3
   },
   "file_extension": ".py",
   "mimetype": "text/x-python",
   "name": "python",
   "nbconvert_exporter": "python",
   "pygments_lexer": "ipython3",
   "version": "3.8.10"
  },
  "orig_nbformat": 4,
  "vscode": {
   "interpreter": {
    "hash": "916dbcbb3f70747c44a77c7bcd40155683ae19c65e1c03b4aa3499c5328201f1"
   }
  }
 },
 "nbformat": 4,
 "nbformat_minor": 2
}
